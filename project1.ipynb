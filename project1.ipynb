{
  "cells": [
    {
      "cell_type": "markdown",
      "source": "# Machine Learning in Python - Project 1\n\nDue Friday, March 6th by 5 pm.\n\n*include contributors names here*",
      "metadata": {
        "cell_id": "00000-4fee86b5-1ee0-4895-ac27-25df82b60ac2",
        "deepnote_cell_type": "markdown"
      }
    },
    {
      "cell_type": "markdown",
      "source": "## 0. Setup",
      "metadata": {
        "cell_id": "00001-3b454d16-fa4b-44a9-817d-b6c8c20230b0",
        "deepnote_cell_type": "markdown"
      }
    },
    {
      "cell_type": "code",
      "metadata": {
        "cell_id": "00002-e24a1dcc-971c-4c48-9ce6-a8a4ac6f003a",
        "deepnote_to_be_reexecuted": false,
        "source_hash": "8fb45546",
        "execution_start": 1614778698615,
        "execution_millis": 3635,
        "deepnote_cell_type": "code"
      },
      "source": "# Install required packages\n!pip install -q -r requirements.txt",
      "execution_count": 1,
      "outputs": []
    },
    {
      "cell_type": "code",
      "metadata": {
        "cell_id": "00003-45172e56-ebb0-4db0-925f-262f974f7ae0",
        "deepnote_to_be_reexecuted": false,
        "source_hash": "8cf16c15",
        "execution_millis": 12600,
        "execution_start": 1614786230158,
        "deepnote_cell_type": "code"
      },
      "source": "# Add any additional libraries or submodules below\n\n# Display plots inline\n%matplotlib inline\n\n# Data libraries\nimport pandas as pd\nimport numpy as np\n!pip install fuzzywuzzy\n!pip install python-Levenshtein\n!pip install metaphone\nfrom fuzzywuzzy import process\nfrom fuzzywuzzy import fuzz\nfrom metaphone import doublemetaphone\n\n# Plotting libraries\nimport matplotlib.pyplot as plt\nimport seaborn as sns\nimport copy\n# Plotting defaults\nplt.rcParams['figure.figsize'] = (8,5)\nplt.rcParams['figure.dpi'] = 80\n\n# sklearn modules\nimport sklearn",
      "execution_count": 21,
      "outputs": [
        {
          "name": "stdout",
          "text": "Requirement already satisfied: fuzzywuzzy in /root/venv/lib/python3.7/site-packages (0.18.0)\nRequirement already satisfied: python-Levenshtein in /root/venv/lib/python3.7/site-packages (0.12.2)\nRequirement already satisfied: setuptools in /root/venv/lib/python3.7/site-packages (from python-Levenshtein) (47.1.0)\nRequirement already satisfied: metaphone in /root/venv/lib/python3.7/site-packages (0.6)\n",
          "output_type": "stream"
        }
      ]
    },
    {
      "cell_type": "code",
      "metadata": {
        "cell_id": "00004-decd4401-42c5-44a4-9b75-25a9322a68e6",
        "deepnote_to_be_reexecuted": false,
        "source_hash": "2c1f046e",
        "execution_millis": 0,
        "execution_start": 1614786642742,
        "deepnote_cell_type": "code"
      },
      "source": "# Load data\ndf = pd.read_csv(\"the_office.csv\")\n",
      "execution_count": 40,
      "outputs": []
    },
    {
      "cell_type": "code",
      "metadata": {
        "cell_id": "00005-d4763f9f-da5f-4128-8b30-ed8c93fc2e77",
        "deepnote_to_be_reexecuted": false,
        "source_hash": "5bbb7a91",
        "execution_millis": 6,
        "execution_start": 1614786645457,
        "deepnote_cell_type": "code"
      },
      "source": "def typo_cleaner(col_name, df):\n    '''\n    Function looks at column of data in pd dataframe, and makes checks \n    for typos. Conditions - all entries that only appear once, that have\n    no semicolon in (i.e. only one name) and that are a >90% match to their\n    closest match in the list. This doesnt catch all typos but, a good start!\n\n    Dependencies: Requires fuzzywuzzy (from fuzzywuzzy import process)\n    Inputs:\n        col_name: string of column name you want to check\n        df: pd dataframe on which you can do df['col_name']\n    Output: none \n    '''\n    k = 0 # just a counter\n    choices = df[col_name]\n    # # For each director in the list print out the matches:\n    # for i in range(len(choices)): \n    #     k+=1\n    \n    #     print(choices[i],' === ',process.extract(choices[i], choices, limit=3))\n\n    matches_limit = 3 # how many matches we want for each director\n\n    for i in range(len(choices)):\n        # Calculate closest matches to the current string\n        matches = process.extract(choices[i], choices, limit = matches_limit)\n\n        # If director only appears one time exactly, its a 90% match to its closest match, and doesnt contain ';':\n        if (choices.str.count(choices[i]).sum()) == 1 and matches[1][1] > 90 and \";\" not in choices[i]: \n            print(df[col_name][i], df[col_name].str.count(df[col_name][i]).sum())\n            print('matches found === ', matches)\n            print('old entry == ', choices[i])\n\n            df[col_name][i] = matches[1][0]\n            print (choices[i], '=== ', matches[1][0])\n            print('new entry == ', choices[i])\n\n    print('Typo cleaner finished - if no other output, no changes were made')",
      "execution_count": 41,
      "outputs": []
    },
    {
      "cell_type": "code",
      "source": "typo_cleaner('director',df)",
      "metadata": {
        "tags": [],
        "cell_id": "00006-f81e24ae-2de1-4142-99e5-add0ec7eb5f1",
        "deepnote_to_be_reexecuted": false,
        "source_hash": "bbb40bdd",
        "execution_millis": 1527,
        "execution_start": 1614786674125,
        "deepnote_cell_type": "code"
      },
      "outputs": [
        {
          "name": "stdout",
          "text": "Greg Daneils 1\nmatches found ===  [('Greg Daneils', 100, 12), ('Greg Daniels', 92, 4), ('Greg Daniels', 92, 6)]\nold entry ==  Greg Daneils\nGreg Daniels ===  Greg Daniels\nnew entry ==  Greg Daniels\nKen Wittingham 1\nmatches found ===  [('Ken Wittingham', 100, 24), ('Ken Whittingham', 97, 2), ('Ken Whittingham', 97, 29)]\nold entry ==  Ken Wittingham\nKen Whittingham ===  Ken Whittingham\nnew entry ==  Ken Whittingham\n/shared-libs/python3.7/py-core/lib/python3.7/site-packages/ipykernel_launcher.py:34: SettingWithCopyWarning: \nA value is trying to be set on a copy of a slice from a DataFrame\n\nSee the caveats in the documentation: https://pandas.pydata.org/pandas-docs/stable/user_guide/indexing.html#returning-a-view-versus-a-copy\nPaul Lieerstein 1\nmatches found ===  [('Paul Lieerstein', 100, 54), ('Paul Lieberstein', 97, 83), ('Paul Lieberstein', 97, 91)]\nold entry ==  Paul Lieerstein\nPaul Lieberstein ===  Paul Lieberstein\nnew entry ==  Paul Lieberstein\nClaire Scanlong 1\nmatches found ===  [('Claire Scanlong', 100, 167), ('Claire Scanlon', 97, 159), ('Charles McDougal', 52, 22)]\nold entry ==  Claire Scanlong\nClaire Scanlon ===  Claire Scanlon\nnew entry ==  Claire Scanlon\nTypo cleaner finished - if no other output, no changes were made\n",
          "output_type": "stream"
        }
      ],
      "execution_count": 42
    },
    {
      "cell_type": "code",
      "metadata": {
        "scrolled": true,
        "cell_id": "00006-469bbe64-9bf4-4485-a481-835a33a009d0",
        "deepnote_to_be_reexecuted": false,
        "source_hash": "45a2f956",
        "execution_start": 1614786245289,
        "execution_millis": 127,
        "deepnote_cell_type": "code"
      },
      "source": "df_split_test = copy.deepcopy(df)\n\n# Split the main_chars col into individuals and \nfor i in range(len(df_split_test['main_chars'])):\n    df_split_test['main_chars'][i] = df_split_test['main_chars'][i].split(';')\n\n#split the actors into columns (dummies)\nccc = df_split_test.main_chars.apply(lambda x: pd.Series([1] * len(x), index=x)).fillna(0, downcast='infer')\n\n",
      "execution_count": 25,
      "outputs": [
        {
          "name": "stderr",
          "text": "/shared-libs/python3.7/py-core/lib/python3.7/site-packages/ipykernel_launcher.py:5: SettingWithCopyWarning: \nA value is trying to be set on a copy of a slice from a DataFrame\n\nSee the caveats in the documentation: https://pandas.pydata.org/pandas-docs/stable/user_guide/indexing.html#returning-a-view-versus-a-copy\n  \"\"\"\n",
          "output_type": "stream"
        }
      ]
    },
    {
      "cell_type": "markdown",
      "source": "Delete directors who appear once.",
      "metadata": {
        "tags": [],
        "cell_id": "00008-f481da29-02a7-4c94-80af-bbe4514b531d",
        "deepnote_cell_type": "markdown"
      }
    },
    {
      "cell_type": "code",
      "metadata": {
        "cell_id": "00007-ca5bbd82-7219-43db-94bf-faa9e8cb4ccf",
        "deepnote_to_be_reexecuted": false,
        "source_hash": "ef335954",
        "execution_start": 1614786249366,
        "execution_millis": 117,
        "deepnote_cell_type": "code"
      },
      "source": "\ndirector_n = df_split_test.groupby('director') \\\n       .agg({'director':'size', 'imdb_rating':'mean'}) \\\n       .rename(columns={'director':'count','imdb_rating':'mean_rating'}) \\\n       .reset_index()\n\n#director_n.head()\n\nmultiple = director_n[director_n[\"count\"]>1]\nsingle = director_n[director_n[\"count\"]== 1]\nsingle.sort_values('mean_rating').head()",
      "execution_count": 26,
      "outputs": [
        {
          "output_type": "execute_result",
          "execution_count": 26,
          "data": {
            "application/vnd.deepnote.dataframe.v2+json": {
              "row_count": 5,
              "column_count": 3,
              "columns": [
                {
                  "name": "director",
                  "dtype": "object",
                  "stats": {
                    "unique_count": 5,
                    "nan_count": 0,
                    "categories": [
                      {
                        "name": "Alex Hardcastle",
                        "count": 1
                      },
                      {
                        "name": "Eric Appel",
                        "count": 1
                      },
                      {
                        "name": "3 others",
                        "count": 3
                      }
                    ]
                  }
                },
                {
                  "name": "count",
                  "dtype": "int64",
                  "stats": {
                    "unique_count": 1,
                    "nan_count": 0,
                    "min": 1,
                    "max": 1,
                    "histogram": [
                      {
                        "bin_start": 0.5,
                        "bin_end": 0.6,
                        "count": 0
                      },
                      {
                        "bin_start": 0.6,
                        "bin_end": 0.7,
                        "count": 0
                      },
                      {
                        "bin_start": 0.7,
                        "bin_end": 0.8,
                        "count": 0
                      },
                      {
                        "bin_start": 0.8,
                        "bin_end": 0.9,
                        "count": 0
                      },
                      {
                        "bin_start": 0.9,
                        "bin_end": 1,
                        "count": 0
                      },
                      {
                        "bin_start": 1,
                        "bin_end": 1.1,
                        "count": 5
                      },
                      {
                        "bin_start": 1.1,
                        "bin_end": 1.2000000000000002,
                        "count": 0
                      },
                      {
                        "bin_start": 1.2000000000000002,
                        "bin_end": 1.3,
                        "count": 0
                      },
                      {
                        "bin_start": 1.3,
                        "bin_end": 1.4,
                        "count": 0
                      },
                      {
                        "bin_start": 1.4,
                        "bin_end": 1.5,
                        "count": 0
                      }
                    ]
                  }
                },
                {
                  "name": "mean_rating",
                  "dtype": "float64",
                  "stats": {
                    "unique_count": 3,
                    "nan_count": 0,
                    "min": 7.5,
                    "max": 7.7,
                    "histogram": [
                      {
                        "bin_start": 7.5,
                        "bin_end": 7.52,
                        "count": 2
                      },
                      {
                        "bin_start": 7.52,
                        "bin_end": 7.54,
                        "count": 0
                      },
                      {
                        "bin_start": 7.54,
                        "bin_end": 7.5600000000000005,
                        "count": 0
                      },
                      {
                        "bin_start": 7.5600000000000005,
                        "bin_end": 7.58,
                        "count": 0
                      },
                      {
                        "bin_start": 7.58,
                        "bin_end": 7.6,
                        "count": 0
                      },
                      {
                        "bin_start": 7.6,
                        "bin_end": 7.62,
                        "count": 1
                      },
                      {
                        "bin_start": 7.62,
                        "bin_end": 7.640000000000001,
                        "count": 0
                      },
                      {
                        "bin_start": 7.640000000000001,
                        "bin_end": 7.66,
                        "count": 0
                      },
                      {
                        "bin_start": 7.66,
                        "bin_end": 7.68,
                        "count": 0
                      },
                      {
                        "bin_start": 7.68,
                        "bin_end": 7.7,
                        "count": 2
                      }
                    ]
                  }
                },
                {
                  "name": "_deepnote_index_column",
                  "dtype": "int64"
                }
              ],
              "rows_top": [
                {
                  "director": "Alex Hardcastle",
                  "count": 1,
                  "mean_rating": 7.5,
                  "_deepnote_index_column": 0
                },
                {
                  "director": "Eric Appel",
                  "count": 1,
                  "mean_rating": 7.5,
                  "_deepnote_index_column": 19
                },
                {
                  "director": "Lee Kirk",
                  "count": 1,
                  "mean_rating": 7.6,
                  "_deepnote_index_column": 37
                },
                {
                  "director": "Charlie Grandy",
                  "count": 1,
                  "mean_rating": 7.7,
                  "_deepnote_index_column": 10
                },
                {
                  "director": "Daniel Chun",
                  "count": 1,
                  "mean_rating": 7.7,
                  "_deepnote_index_column": 13
                }
              ],
              "rows_bottom": null
            },
            "text/plain": "           director  count  mean_rating\n0   Alex Hardcastle      1          7.5\n19       Eric Appel      1          7.5\n37         Lee Kirk      1          7.6\n10   Charlie Grandy      1          7.7\n13      Daniel Chun      1          7.7",
            "text/html": "<div>\n<style scoped>\n    .dataframe tbody tr th:only-of-type {\n        vertical-align: middle;\n    }\n\n    .dataframe tbody tr th {\n        vertical-align: top;\n    }\n\n    .dataframe thead th {\n        text-align: right;\n    }\n</style>\n<table border=\"1\" class=\"dataframe\">\n  <thead>\n    <tr style=\"text-align: right;\">\n      <th></th>\n      <th>director</th>\n      <th>count</th>\n      <th>mean_rating</th>\n    </tr>\n  </thead>\n  <tbody>\n    <tr>\n      <th>0</th>\n      <td>Alex Hardcastle</td>\n      <td>1</td>\n      <td>7.5</td>\n    </tr>\n    <tr>\n      <th>19</th>\n      <td>Eric Appel</td>\n      <td>1</td>\n      <td>7.5</td>\n    </tr>\n    <tr>\n      <th>37</th>\n      <td>Lee Kirk</td>\n      <td>1</td>\n      <td>7.6</td>\n    </tr>\n    <tr>\n      <th>10</th>\n      <td>Charlie Grandy</td>\n      <td>1</td>\n      <td>7.7</td>\n    </tr>\n    <tr>\n      <th>13</th>\n      <td>Daniel Chun</td>\n      <td>1</td>\n      <td>7.7</td>\n    </tr>\n  </tbody>\n</table>\n</div>"
          },
          "metadata": {}
        }
      ]
    },
    {
      "cell_type": "code",
      "metadata": {
        "cell_id": "00008-9fda10a2-d7b6-427a-9b41-742e8c8e7845",
        "deepnote_to_be_reexecuted": false,
        "source_hash": "4b162eba",
        "execution_start": 1614786258530,
        "execution_millis": 7,
        "deepnote_cell_type": "code"
      },
      "source": "single['director'] = 'director_' + single['director'].astype(str)\nto_elim = list(single['director'])\nto_elim",
      "execution_count": 27,
      "outputs": [
        {
          "name": "stderr",
          "text": "/shared-libs/python3.7/py-core/lib/python3.7/site-packages/ipykernel_launcher.py:1: SettingWithCopyWarning: \nA value is trying to be set on a copy of a slice from a DataFrame.\nTry using .loc[row_indexer,col_indexer] = value instead\n\nSee the caveats in the documentation: https://pandas.pydata.org/pandas-docs/stable/user_guide/indexing.html#returning-a-view-versus-a-copy\n  \"\"\"Entry point for launching an IPython kernel.\n",
          "output_type": "stream"
        },
        {
          "output_type": "execute_result",
          "execution_count": 27,
          "data": {
            "text/plain": "['director_Alex Hardcastle',\n 'director_Amy Heckerling',\n 'director_Asaad Kelada',\n 'director_Brian Baumgartner',\n 'director_Bryan Cranston',\n 'director_Charles McDougal',\n 'director_Charlie Grandy',\n 'director_Craig Zisk',\n 'director_Daniel Chun',\n 'director_Danny Leiner',\n 'director_Eric Appel',\n 'director_Gene Stupnitsky;Lee Eisenberg',\n 'director_J.J. Abrams',\n 'director_Jesse Peretz',\n 'director_John Scott',\n 'director_Jon Favreau',\n 'director_Kelly Cantley-Kashima',\n 'director_Lee Eisenberg;Gene Stupnitsky',\n 'director_Lee Kirk',\n 'director_Marc Webb',\n 'director_Michael Spiller',\n 'director_Miguel Arteta',\n 'director_Reginald Hudlin',\n 'director_Roger Nygard',\n 'director_Seth Gordon',\n 'director_Seth Gordon;Harold Ramis',\n 'director_Stephen Merchant']"
          },
          "metadata": {}
        }
      ]
    },
    {
      "cell_type": "code",
      "metadata": {
        "scrolled": true,
        "cell_id": "00009-0c68020d-c3d4-4a7c-a345-520a064426f7",
        "deepnote_to_be_reexecuted": false,
        "source_hash": "63a89b0f",
        "execution_start": 1614786280621,
        "execution_millis": 64,
        "deepnote_cell_type": "code"
      },
      "source": "df_full = pd.concat([df_split_test, ccc], axis=1)\ndf_full[\"month\"] = df_full[\"air_date\"].str[5:7]\ndf_full['day_of_week'] = pd.to_datetime(df_full['air_date']).dt.dayofweek\ndays = {0:'Monday',1:'Tuesday',2:'Wednesday',3:'Thursday',4:'Friday',5:'Saturday',6:'Sunday'}\ndf_full['day_of_week'] = df_full['day_of_week'].apply(lambda x: days[x])\n\ndf_full.drop(['season', 'air_date','main_chars','episode_name'], axis=1, inplace=True)\ndf_full",
      "execution_count": 28,
      "outputs": [
        {
          "output_type": "execute_result",
          "execution_count": 28,
          "data": {
            "application/vnd.deepnote.dataframe.v2+json": {
              "row_count": 186,
              "column_count": 28,
              "columns": [
                {
                  "name": "episode",
                  "dtype": "int64",
                  "stats": {
                    "unique_count": 28,
                    "nan_count": 0,
                    "min": 1,
                    "max": 28,
                    "histogram": [
                      {
                        "bin_start": 1,
                        "bin_end": 3.7,
                        "count": 25
                      },
                      {
                        "bin_start": 3.7,
                        "bin_end": 6.4,
                        "count": 24
                      },
                      {
                        "bin_start": 6.4,
                        "bin_end": 9.100000000000001,
                        "count": 23
                      },
                      {
                        "bin_start": 9.100000000000001,
                        "bin_end": 11.8,
                        "count": 15
                      },
                      {
                        "bin_start": 11.8,
                        "bin_end": 14.5,
                        "count": 23
                      },
                      {
                        "bin_start": 14.5,
                        "bin_end": 17.200000000000003,
                        "count": 23
                      },
                      {
                        "bin_start": 17.200000000000003,
                        "bin_end": 19.900000000000002,
                        "count": 14
                      },
                      {
                        "bin_start": 19.900000000000002,
                        "bin_end": 22.6,
                        "count": 21
                      },
                      {
                        "bin_start": 22.6,
                        "bin_end": 25.3,
                        "count": 14
                      },
                      {
                        "bin_start": 25.3,
                        "bin_end": 28,
                        "count": 4
                      }
                    ]
                  }
                },
                {
                  "name": "director",
                  "dtype": "object",
                  "stats": {
                    "unique_count": 57,
                    "nan_count": 0,
                    "categories": [
                      {
                        "name": "Greg Daniels",
                        "count": 15
                      },
                      {
                        "name": "Randall Einhorn",
                        "count": 15
                      },
                      {
                        "name": "55 others",
                        "count": 156
                      }
                    ]
                  }
                },
                {
                  "name": "writer",
                  "dtype": "object",
                  "stats": {
                    "unique_count": 47,
                    "nan_count": 0,
                    "categories": [
                      {
                        "name": "Mindy Kaling",
                        "count": 20
                      },
                      {
                        "name": "B.J. Novak",
                        "count": 15
                      },
                      {
                        "name": "45 others",
                        "count": 151
                      }
                    ]
                  }
                },
                {
                  "name": "imdb_rating",
                  "dtype": "float64",
                  "stats": {
                    "unique_count": 28,
                    "nan_count": 0,
                    "min": 6.7,
                    "max": 9.7,
                    "histogram": [
                      {
                        "bin_start": 6.7,
                        "bin_end": 7,
                        "count": 2
                      },
                      {
                        "bin_start": 7,
                        "bin_end": 7.3,
                        "count": 6
                      },
                      {
                        "bin_start": 7.3,
                        "bin_end": 7.6,
                        "count": 7
                      },
                      {
                        "bin_start": 7.6,
                        "bin_end": 7.9,
                        "count": 26
                      },
                      {
                        "bin_start": 7.9,
                        "bin_end": 8.2,
                        "count": 34
                      },
                      {
                        "bin_start": 8.2,
                        "bin_end": 8.5,
                        "count": 50
                      },
                      {
                        "bin_start": 8.5,
                        "bin_end": 8.8,
                        "count": 32
                      },
                      {
                        "bin_start": 8.8,
                        "bin_end": 9.1,
                        "count": 16
                      },
                      {
                        "bin_start": 9.1,
                        "bin_end": 9.399999999999999,
                        "count": 10
                      },
                      {
                        "bin_start": 9.399999999999999,
                        "bin_end": 9.7,
                        "count": 3
                      }
                    ]
                  }
                },
                {
                  "name": "total_votes",
                  "dtype": "int64",
                  "stats": {
                    "unique_count": 174,
                    "nan_count": 0,
                    "min": 1393,
                    "max": 7934,
                    "histogram": [
                      {
                        "bin_start": 1393,
                        "bin_end": 2047.1,
                        "count": 105
                      },
                      {
                        "bin_start": 2047.1,
                        "bin_end": 2701.2,
                        "count": 55
                      },
                      {
                        "bin_start": 2701.2,
                        "bin_end": 3355.3,
                        "count": 17
                      },
                      {
                        "bin_start": 3355.3,
                        "bin_end": 4009.4,
                        "count": 5
                      },
                      {
                        "bin_start": 4009.4,
                        "bin_end": 4663.5,
                        "count": 1
                      },
                      {
                        "bin_start": 4663.5,
                        "bin_end": 5317.6,
                        "count": 0
                      },
                      {
                        "bin_start": 5317.6,
                        "bin_end": 5971.7,
                        "count": 2
                      },
                      {
                        "bin_start": 5971.7,
                        "bin_end": 6625.8,
                        "count": 0
                      },
                      {
                        "bin_start": 6625.8,
                        "bin_end": 7279.900000000001,
                        "count": 0
                      },
                      {
                        "bin_start": 7279.900000000001,
                        "bin_end": 7934,
                        "count": 1
                      }
                    ]
                  }
                },
                {
                  "name": "n_lines",
                  "dtype": "int64",
                  "stats": {
                    "unique_count": 119,
                    "nan_count": 0,
                    "min": 131,
                    "max": 625,
                    "histogram": [
                      {
                        "bin_start": 131,
                        "bin_end": 180.4,
                        "count": 3
                      },
                      {
                        "bin_start": 180.4,
                        "bin_end": 229.8,
                        "count": 20
                      },
                      {
                        "bin_start": 229.8,
                        "bin_end": 279.2,
                        "count": 69
                      },
                      {
                        "bin_start": 279.2,
                        "bin_end": 328.6,
                        "count": 61
                      },
                      {
                        "bin_start": 328.6,
                        "bin_end": 378,
                        "count": 14
                      },
                      {
                        "bin_start": 378,
                        "bin_end": 427.4,
                        "count": 3
                      },
                      {
                        "bin_start": 427.4,
                        "bin_end": 476.8,
                        "count": 2
                      },
                      {
                        "bin_start": 476.8,
                        "bin_end": 526.2,
                        "count": 9
                      },
                      {
                        "bin_start": 526.2,
                        "bin_end": 575.5999999999999,
                        "count": 3
                      },
                      {
                        "bin_start": 575.5999999999999,
                        "bin_end": 625,
                        "count": 2
                      }
                    ]
                  }
                },
                {
                  "name": "n_directions",
                  "dtype": "int64",
                  "stats": {
                    "unique_count": 75,
                    "nan_count": 0,
                    "min": 11,
                    "max": 166,
                    "histogram": [
                      {
                        "bin_start": 11,
                        "bin_end": 26.5,
                        "count": 21
                      },
                      {
                        "bin_start": 26.5,
                        "bin_end": 42,
                        "count": 50
                      },
                      {
                        "bin_start": 42,
                        "bin_end": 57.5,
                        "count": 63
                      },
                      {
                        "bin_start": 57.5,
                        "bin_end": 73,
                        "count": 29
                      },
                      {
                        "bin_start": 73,
                        "bin_end": 88.5,
                        "count": 9
                      },
                      {
                        "bin_start": 88.5,
                        "bin_end": 104,
                        "count": 7
                      },
                      {
                        "bin_start": 104,
                        "bin_end": 119.5,
                        "count": 3
                      },
                      {
                        "bin_start": 119.5,
                        "bin_end": 135,
                        "count": 1
                      },
                      {
                        "bin_start": 135,
                        "bin_end": 150.5,
                        "count": 2
                      },
                      {
                        "bin_start": 150.5,
                        "bin_end": 166,
                        "count": 1
                      }
                    ]
                  }
                },
                {
                  "name": "n_words",
                  "dtype": "int64",
                  "stats": {
                    "unique_count": 174,
                    "nan_count": 0,
                    "min": 1098,
                    "max": 6076,
                    "histogram": [
                      {
                        "bin_start": 1098,
                        "bin_end": 1595.8,
                        "count": 1
                      },
                      {
                        "bin_start": 1595.8,
                        "bin_end": 2093.6,
                        "count": 2
                      },
                      {
                        "bin_start": 2093.6,
                        "bin_end": 2591.4,
                        "count": 32
                      },
                      {
                        "bin_start": 2591.4,
                        "bin_end": 3089.2,
                        "count": 100
                      },
                      {
                        "bin_start": 3089.2,
                        "bin_end": 3587,
                        "count": 33
                      },
                      {
                        "bin_start": 3587,
                        "bin_end": 4084.8,
                        "count": 1
                      },
                      {
                        "bin_start": 4084.8,
                        "bin_end": 4582.6,
                        "count": 1
                      },
                      {
                        "bin_start": 4582.6,
                        "bin_end": 5080.4,
                        "count": 5
                      },
                      {
                        "bin_start": 5080.4,
                        "bin_end": 5578.2,
                        "count": 6
                      },
                      {
                        "bin_start": 5578.2,
                        "bin_end": 6076,
                        "count": 5
                      }
                    ]
                  }
                },
                {
                  "name": "n_speak_char",
                  "dtype": "int64",
                  "stats": {
                    "unique_count": 22,
                    "nan_count": 0,
                    "min": 12,
                    "max": 54,
                    "histogram": [
                      {
                        "bin_start": 12,
                        "bin_end": 16.2,
                        "count": 36
                      },
                      {
                        "bin_start": 16.2,
                        "bin_end": 20.4,
                        "count": 67
                      },
                      {
                        "bin_start": 20.4,
                        "bin_end": 24.6,
                        "count": 45
                      },
                      {
                        "bin_start": 24.6,
                        "bin_end": 28.8,
                        "count": 28
                      },
                      {
                        "bin_start": 28.8,
                        "bin_end": 33,
                        "count": 5
                      },
                      {
                        "bin_start": 33,
                        "bin_end": 37.2,
                        "count": 4
                      },
                      {
                        "bin_start": 37.2,
                        "bin_end": 41.400000000000006,
                        "count": 0
                      },
                      {
                        "bin_start": 41.400000000000006,
                        "bin_end": 45.6,
                        "count": 0
                      },
                      {
                        "bin_start": 45.6,
                        "bin_end": 49.800000000000004,
                        "count": 0
                      },
                      {
                        "bin_start": 49.800000000000004,
                        "bin_end": 54,
                        "count": 1
                      }
                    ]
                  }
                },
                {
                  "name": "Angela",
                  "dtype": "int64",
                  "stats": {
                    "unique_count": 2,
                    "nan_count": 0,
                    "min": 0,
                    "max": 1,
                    "histogram": [
                      {
                        "bin_start": 0,
                        "bin_end": 0.1,
                        "count": 15
                      },
                      {
                        "bin_start": 0.1,
                        "bin_end": 0.2,
                        "count": 0
                      },
                      {
                        "bin_start": 0.2,
                        "bin_end": 0.30000000000000004,
                        "count": 0
                      },
                      {
                        "bin_start": 0.30000000000000004,
                        "bin_end": 0.4,
                        "count": 0
                      },
                      {
                        "bin_start": 0.4,
                        "bin_end": 0.5,
                        "count": 0
                      },
                      {
                        "bin_start": 0.5,
                        "bin_end": 0.6000000000000001,
                        "count": 0
                      },
                      {
                        "bin_start": 0.6000000000000001,
                        "bin_end": 0.7000000000000001,
                        "count": 0
                      },
                      {
                        "bin_start": 0.7000000000000001,
                        "bin_end": 0.8,
                        "count": 0
                      },
                      {
                        "bin_start": 0.8,
                        "bin_end": 0.9,
                        "count": 0
                      },
                      {
                        "bin_start": 0.9,
                        "bin_end": 1,
                        "count": 171
                      }
                    ]
                  }
                },
                {
                  "name": "Dwight",
                  "dtype": "int64",
                  "stats": {
                    "unique_count": 1,
                    "nan_count": 0,
                    "min": 1,
                    "max": 1,
                    "histogram": [
                      {
                        "bin_start": 0.5,
                        "bin_end": 0.6,
                        "count": 0
                      },
                      {
                        "bin_start": 0.6,
                        "bin_end": 0.7,
                        "count": 0
                      },
                      {
                        "bin_start": 0.7,
                        "bin_end": 0.8,
                        "count": 0
                      },
                      {
                        "bin_start": 0.8,
                        "bin_end": 0.9,
                        "count": 0
                      },
                      {
                        "bin_start": 0.9,
                        "bin_end": 1,
                        "count": 0
                      },
                      {
                        "bin_start": 1,
                        "bin_end": 1.1,
                        "count": 186
                      },
                      {
                        "bin_start": 1.1,
                        "bin_end": 1.2000000000000002,
                        "count": 0
                      },
                      {
                        "bin_start": 1.2000000000000002,
                        "bin_end": 1.3,
                        "count": 0
                      },
                      {
                        "bin_start": 1.3,
                        "bin_end": 1.4,
                        "count": 0
                      },
                      {
                        "bin_start": 1.4,
                        "bin_end": 1.5,
                        "count": 0
                      }
                    ]
                  }
                },
                {
                  "name": "Jim",
                  "dtype": "int64",
                  "stats": {
                    "unique_count": 2,
                    "nan_count": 0,
                    "min": 0,
                    "max": 1,
                    "histogram": [
                      {
                        "bin_start": 0,
                        "bin_end": 0.1,
                        "count": 1
                      },
                      {
                        "bin_start": 0.1,
                        "bin_end": 0.2,
                        "count": 0
                      },
                      {
                        "bin_start": 0.2,
                        "bin_end": 0.30000000000000004,
                        "count": 0
                      },
                      {
                        "bin_start": 0.30000000000000004,
                        "bin_end": 0.4,
                        "count": 0
                      },
                      {
                        "bin_start": 0.4,
                        "bin_end": 0.5,
                        "count": 0
                      },
                      {
                        "bin_start": 0.5,
                        "bin_end": 0.6000000000000001,
                        "count": 0
                      },
                      {
                        "bin_start": 0.6000000000000001,
                        "bin_end": 0.7000000000000001,
                        "count": 0
                      },
                      {
                        "bin_start": 0.7000000000000001,
                        "bin_end": 0.8,
                        "count": 0
                      },
                      {
                        "bin_start": 0.8,
                        "bin_end": 0.9,
                        "count": 0
                      },
                      {
                        "bin_start": 0.9,
                        "bin_end": 1,
                        "count": 185
                      }
                    ]
                  }
                },
                {
                  "name": "Kevin",
                  "dtype": "int64",
                  "stats": {
                    "unique_count": 2,
                    "nan_count": 0,
                    "min": 0,
                    "max": 1,
                    "histogram": [
                      {
                        "bin_start": 0,
                        "bin_end": 0.1,
                        "count": 6
                      },
                      {
                        "bin_start": 0.1,
                        "bin_end": 0.2,
                        "count": 0
                      },
                      {
                        "bin_start": 0.2,
                        "bin_end": 0.30000000000000004,
                        "count": 0
                      },
                      {
                        "bin_start": 0.30000000000000004,
                        "bin_end": 0.4,
                        "count": 0
                      },
                      {
                        "bin_start": 0.4,
                        "bin_end": 0.5,
                        "count": 0
                      },
                      {
                        "bin_start": 0.5,
                        "bin_end": 0.6000000000000001,
                        "count": 0
                      },
                      {
                        "bin_start": 0.6000000000000001,
                        "bin_end": 0.7000000000000001,
                        "count": 0
                      },
                      {
                        "bin_start": 0.7000000000000001,
                        "bin_end": 0.8,
                        "count": 0
                      },
                      {
                        "bin_start": 0.8,
                        "bin_end": 0.9,
                        "count": 0
                      },
                      {
                        "bin_start": 0.9,
                        "bin_end": 1,
                        "count": 180
                      }
                    ]
                  }
                },
                {
                  "name": "Michael",
                  "dtype": "int64",
                  "stats": {
                    "unique_count": 2,
                    "nan_count": 0,
                    "min": 0,
                    "max": 1,
                    "histogram": [
                      {
                        "bin_start": 0,
                        "bin_end": 0.1,
                        "count": 49
                      },
                      {
                        "bin_start": 0.1,
                        "bin_end": 0.2,
                        "count": 0
                      },
                      {
                        "bin_start": 0.2,
                        "bin_end": 0.30000000000000004,
                        "count": 0
                      },
                      {
                        "bin_start": 0.30000000000000004,
                        "bin_end": 0.4,
                        "count": 0
                      },
                      {
                        "bin_start": 0.4,
                        "bin_end": 0.5,
                        "count": 0
                      },
                      {
                        "bin_start": 0.5,
                        "bin_end": 0.6000000000000001,
                        "count": 0
                      },
                      {
                        "bin_start": 0.6000000000000001,
                        "bin_end": 0.7000000000000001,
                        "count": 0
                      },
                      {
                        "bin_start": 0.7000000000000001,
                        "bin_end": 0.8,
                        "count": 0
                      },
                      {
                        "bin_start": 0.8,
                        "bin_end": 0.9,
                        "count": 0
                      },
                      {
                        "bin_start": 0.9,
                        "bin_end": 1,
                        "count": 137
                      }
                    ]
                  }
                },
                {
                  "name": "Oscar",
                  "dtype": "int64",
                  "stats": {
                    "unique_count": 2,
                    "nan_count": 0,
                    "min": 0,
                    "max": 1,
                    "histogram": [
                      {
                        "bin_start": 0,
                        "bin_end": 0.1,
                        "count": 22
                      },
                      {
                        "bin_start": 0.1,
                        "bin_end": 0.2,
                        "count": 0
                      },
                      {
                        "bin_start": 0.2,
                        "bin_end": 0.30000000000000004,
                        "count": 0
                      },
                      {
                        "bin_start": 0.30000000000000004,
                        "bin_end": 0.4,
                        "count": 0
                      },
                      {
                        "bin_start": 0.4,
                        "bin_end": 0.5,
                        "count": 0
                      },
                      {
                        "bin_start": 0.5,
                        "bin_end": 0.6000000000000001,
                        "count": 0
                      },
                      {
                        "bin_start": 0.6000000000000001,
                        "bin_end": 0.7000000000000001,
                        "count": 0
                      },
                      {
                        "bin_start": 0.7000000000000001,
                        "bin_end": 0.8,
                        "count": 0
                      },
                      {
                        "bin_start": 0.8,
                        "bin_end": 0.9,
                        "count": 0
                      },
                      {
                        "bin_start": 0.9,
                        "bin_end": 1,
                        "count": 164
                      }
                    ]
                  }
                },
                {
                  "name": "Pam",
                  "dtype": "int64",
                  "stats": {
                    "unique_count": 2,
                    "nan_count": 0,
                    "min": 0,
                    "max": 1,
                    "histogram": [
                      {
                        "bin_start": 0,
                        "bin_end": 0.1,
                        "count": 4
                      },
                      {
                        "bin_start": 0.1,
                        "bin_end": 0.2,
                        "count": 0
                      },
                      {
                        "bin_start": 0.2,
                        "bin_end": 0.30000000000000004,
                        "count": 0
                      },
                      {
                        "bin_start": 0.30000000000000004,
                        "bin_end": 0.4,
                        "count": 0
                      },
                      {
                        "bin_start": 0.4,
                        "bin_end": 0.5,
                        "count": 0
                      },
                      {
                        "bin_start": 0.5,
                        "bin_end": 0.6000000000000001,
                        "count": 0
                      },
                      {
                        "bin_start": 0.6000000000000001,
                        "bin_end": 0.7000000000000001,
                        "count": 0
                      },
                      {
                        "bin_start": 0.7000000000000001,
                        "bin_end": 0.8,
                        "count": 0
                      },
                      {
                        "bin_start": 0.8,
                        "bin_end": 0.9,
                        "count": 0
                      },
                      {
                        "bin_start": 0.9,
                        "bin_end": 1,
                        "count": 182
                      }
                    ]
                  }
                },
                {
                  "name": "Phyllis",
                  "dtype": "int64",
                  "stats": {
                    "unique_count": 2,
                    "nan_count": 0,
                    "min": 0,
                    "max": 1,
                    "histogram": [
                      {
                        "bin_start": 0,
                        "bin_end": 0.1,
                        "count": 21
                      },
                      {
                        "bin_start": 0.1,
                        "bin_end": 0.2,
                        "count": 0
                      },
                      {
                        "bin_start": 0.2,
                        "bin_end": 0.30000000000000004,
                        "count": 0
                      },
                      {
                        "bin_start": 0.30000000000000004,
                        "bin_end": 0.4,
                        "count": 0
                      },
                      {
                        "bin_start": 0.4,
                        "bin_end": 0.5,
                        "count": 0
                      },
                      {
                        "bin_start": 0.5,
                        "bin_end": 0.6000000000000001,
                        "count": 0
                      },
                      {
                        "bin_start": 0.6000000000000001,
                        "bin_end": 0.7000000000000001,
                        "count": 0
                      },
                      {
                        "bin_start": 0.7000000000000001,
                        "bin_end": 0.8,
                        "count": 0
                      },
                      {
                        "bin_start": 0.8,
                        "bin_end": 0.9,
                        "count": 0
                      },
                      {
                        "bin_start": 0.9,
                        "bin_end": 1,
                        "count": 165
                      }
                    ]
                  }
                },
                {
                  "name": "Ryan",
                  "dtype": "int64",
                  "stats": {
                    "unique_count": 2,
                    "nan_count": 0,
                    "min": 0,
                    "max": 1,
                    "histogram": [
                      {
                        "bin_start": 0,
                        "bin_end": 0.1,
                        "count": 47
                      },
                      {
                        "bin_start": 0.1,
                        "bin_end": 0.2,
                        "count": 0
                      },
                      {
                        "bin_start": 0.2,
                        "bin_end": 0.30000000000000004,
                        "count": 0
                      },
                      {
                        "bin_start": 0.30000000000000004,
                        "bin_end": 0.4,
                        "count": 0
                      },
                      {
                        "bin_start": 0.4,
                        "bin_end": 0.5,
                        "count": 0
                      },
                      {
                        "bin_start": 0.5,
                        "bin_end": 0.6000000000000001,
                        "count": 0
                      },
                      {
                        "bin_start": 0.6000000000000001,
                        "bin_end": 0.7000000000000001,
                        "count": 0
                      },
                      {
                        "bin_start": 0.7000000000000001,
                        "bin_end": 0.8,
                        "count": 0
                      },
                      {
                        "bin_start": 0.8,
                        "bin_end": 0.9,
                        "count": 0
                      },
                      {
                        "bin_start": 0.9,
                        "bin_end": 1,
                        "count": 139
                      }
                    ]
                  }
                },
                {
                  "name": "Stanley",
                  "dtype": "int64",
                  "stats": {
                    "unique_count": 2,
                    "nan_count": 0,
                    "min": 0,
                    "max": 1,
                    "histogram": [
                      {
                        "bin_start": 0,
                        "bin_end": 0.1,
                        "count": 21
                      },
                      {
                        "bin_start": 0.1,
                        "bin_end": 0.2,
                        "count": 0
                      },
                      {
                        "bin_start": 0.2,
                        "bin_end": 0.30000000000000004,
                        "count": 0
                      },
                      {
                        "bin_start": 0.30000000000000004,
                        "bin_end": 0.4,
                        "count": 0
                      },
                      {
                        "bin_start": 0.4,
                        "bin_end": 0.5,
                        "count": 0
                      },
                      {
                        "bin_start": 0.5,
                        "bin_end": 0.6000000000000001,
                        "count": 0
                      },
                      {
                        "bin_start": 0.6000000000000001,
                        "bin_end": 0.7000000000000001,
                        "count": 0
                      },
                      {
                        "bin_start": 0.7000000000000001,
                        "bin_end": 0.8,
                        "count": 0
                      },
                      {
                        "bin_start": 0.8,
                        "bin_end": 0.9,
                        "count": 0
                      },
                      {
                        "bin_start": 0.9,
                        "bin_end": 1,
                        "count": 165
                      }
                    ]
                  }
                },
                {
                  "name": "Kelly",
                  "dtype": "int64",
                  "stats": {
                    "unique_count": 2,
                    "nan_count": 0,
                    "min": 0,
                    "max": 1,
                    "histogram": [
                      {
                        "bin_start": 0,
                        "bin_end": 0.1,
                        "count": 44
                      },
                      {
                        "bin_start": 0.1,
                        "bin_end": 0.2,
                        "count": 0
                      },
                      {
                        "bin_start": 0.2,
                        "bin_end": 0.30000000000000004,
                        "count": 0
                      },
                      {
                        "bin_start": 0.30000000000000004,
                        "bin_end": 0.4,
                        "count": 0
                      },
                      {
                        "bin_start": 0.4,
                        "bin_end": 0.5,
                        "count": 0
                      },
                      {
                        "bin_start": 0.5,
                        "bin_end": 0.6000000000000001,
                        "count": 0
                      },
                      {
                        "bin_start": 0.6000000000000001,
                        "bin_end": 0.7000000000000001,
                        "count": 0
                      },
                      {
                        "bin_start": 0.7000000000000001,
                        "bin_end": 0.8,
                        "count": 0
                      },
                      {
                        "bin_start": 0.8,
                        "bin_end": 0.9,
                        "count": 0
                      },
                      {
                        "bin_start": 0.9,
                        "bin_end": 1,
                        "count": 142
                      }
                    ]
                  }
                },
                {
                  "name": "Toby",
                  "dtype": "int64",
                  "stats": {
                    "unique_count": 2,
                    "nan_count": 0,
                    "min": 0,
                    "max": 1,
                    "histogram": [
                      {
                        "bin_start": 0,
                        "bin_end": 0.1,
                        "count": 78
                      },
                      {
                        "bin_start": 0.1,
                        "bin_end": 0.2,
                        "count": 0
                      },
                      {
                        "bin_start": 0.2,
                        "bin_end": 0.30000000000000004,
                        "count": 0
                      },
                      {
                        "bin_start": 0.30000000000000004,
                        "bin_end": 0.4,
                        "count": 0
                      },
                      {
                        "bin_start": 0.4,
                        "bin_end": 0.5,
                        "count": 0
                      },
                      {
                        "bin_start": 0.5,
                        "bin_end": 0.6000000000000001,
                        "count": 0
                      },
                      {
                        "bin_start": 0.6000000000000001,
                        "bin_end": 0.7000000000000001,
                        "count": 0
                      },
                      {
                        "bin_start": 0.7000000000000001,
                        "bin_end": 0.8,
                        "count": 0
                      },
                      {
                        "bin_start": 0.8,
                        "bin_end": 0.9,
                        "count": 0
                      },
                      {
                        "bin_start": 0.9,
                        "bin_end": 1,
                        "count": 108
                      }
                    ]
                  }
                },
                {
                  "name": "Meredith",
                  "dtype": "int64",
                  "stats": {
                    "unique_count": 2,
                    "nan_count": 0,
                    "min": 0,
                    "max": 1,
                    "histogram": [
                      {
                        "bin_start": 0,
                        "bin_end": 0.1,
                        "count": 55
                      },
                      {
                        "bin_start": 0.1,
                        "bin_end": 0.2,
                        "count": 0
                      },
                      {
                        "bin_start": 0.2,
                        "bin_end": 0.30000000000000004,
                        "count": 0
                      },
                      {
                        "bin_start": 0.30000000000000004,
                        "bin_end": 0.4,
                        "count": 0
                      },
                      {
                        "bin_start": 0.4,
                        "bin_end": 0.5,
                        "count": 0
                      },
                      {
                        "bin_start": 0.5,
                        "bin_end": 0.6000000000000001,
                        "count": 0
                      },
                      {
                        "bin_start": 0.6000000000000001,
                        "bin_end": 0.7000000000000001,
                        "count": 0
                      },
                      {
                        "bin_start": 0.7000000000000001,
                        "bin_end": 0.8,
                        "count": 0
                      },
                      {
                        "bin_start": 0.8,
                        "bin_end": 0.9,
                        "count": 0
                      },
                      {
                        "bin_start": 0.9,
                        "bin_end": 1,
                        "count": 131
                      }
                    ]
                  }
                },
                {
                  "name": "Darryl",
                  "dtype": "int64",
                  "stats": {
                    "unique_count": 2,
                    "nan_count": 0,
                    "min": 0,
                    "max": 1,
                    "histogram": [
                      {
                        "bin_start": 0,
                        "bin_end": 0.1,
                        "count": 81
                      },
                      {
                        "bin_start": 0.1,
                        "bin_end": 0.2,
                        "count": 0
                      },
                      {
                        "bin_start": 0.2,
                        "bin_end": 0.30000000000000004,
                        "count": 0
                      },
                      {
                        "bin_start": 0.30000000000000004,
                        "bin_end": 0.4,
                        "count": 0
                      },
                      {
                        "bin_start": 0.4,
                        "bin_end": 0.5,
                        "count": 0
                      },
                      {
                        "bin_start": 0.5,
                        "bin_end": 0.6000000000000001,
                        "count": 0
                      },
                      {
                        "bin_start": 0.6000000000000001,
                        "bin_end": 0.7000000000000001,
                        "count": 0
                      },
                      {
                        "bin_start": 0.7000000000000001,
                        "bin_end": 0.8,
                        "count": 0
                      },
                      {
                        "bin_start": 0.8,
                        "bin_end": 0.9,
                        "count": 0
                      },
                      {
                        "bin_start": 0.9,
                        "bin_end": 1,
                        "count": 105
                      }
                    ]
                  }
                },
                {
                  "name": "Creed",
                  "dtype": "int64",
                  "stats": {
                    "unique_count": 2,
                    "nan_count": 0,
                    "min": 0,
                    "max": 1,
                    "histogram": [
                      {
                        "bin_start": 0,
                        "bin_end": 0.1,
                        "count": 55
                      },
                      {
                        "bin_start": 0.1,
                        "bin_end": 0.2,
                        "count": 0
                      },
                      {
                        "bin_start": 0.2,
                        "bin_end": 0.30000000000000004,
                        "count": 0
                      },
                      {
                        "bin_start": 0.30000000000000004,
                        "bin_end": 0.4,
                        "count": 0
                      },
                      {
                        "bin_start": 0.4,
                        "bin_end": 0.5,
                        "count": 0
                      },
                      {
                        "bin_start": 0.5,
                        "bin_end": 0.6000000000000001,
                        "count": 0
                      },
                      {
                        "bin_start": 0.6000000000000001,
                        "bin_end": 0.7000000000000001,
                        "count": 0
                      },
                      {
                        "bin_start": 0.7000000000000001,
                        "bin_end": 0.8,
                        "count": 0
                      },
                      {
                        "bin_start": 0.8,
                        "bin_end": 0.9,
                        "count": 0
                      },
                      {
                        "bin_start": 0.9,
                        "bin_end": 1,
                        "count": 131
                      }
                    ]
                  }
                },
                {
                  "name": "Andy",
                  "dtype": "int64",
                  "stats": {
                    "unique_count": 2,
                    "nan_count": 0,
                    "min": 0,
                    "max": 1,
                    "histogram": [
                      {
                        "bin_start": 0,
                        "bin_end": 0.1,
                        "count": 43
                      },
                      {
                        "bin_start": 0.1,
                        "bin_end": 0.2,
                        "count": 0
                      },
                      {
                        "bin_start": 0.2,
                        "bin_end": 0.30000000000000004,
                        "count": 0
                      },
                      {
                        "bin_start": 0.30000000000000004,
                        "bin_end": 0.4,
                        "count": 0
                      },
                      {
                        "bin_start": 0.4,
                        "bin_end": 0.5,
                        "count": 0
                      },
                      {
                        "bin_start": 0.5,
                        "bin_end": 0.6000000000000001,
                        "count": 0
                      },
                      {
                        "bin_start": 0.6000000000000001,
                        "bin_end": 0.7000000000000001,
                        "count": 0
                      },
                      {
                        "bin_start": 0.7000000000000001,
                        "bin_end": 0.8,
                        "count": 0
                      },
                      {
                        "bin_start": 0.8,
                        "bin_end": 0.9,
                        "count": 0
                      },
                      {
                        "bin_start": 0.9,
                        "bin_end": 1,
                        "count": 143
                      }
                    ]
                  }
                },
                {
                  "name": "Erin",
                  "dtype": "int64",
                  "stats": {
                    "unique_count": 2,
                    "nan_count": 0,
                    "min": 0,
                    "max": 1,
                    "histogram": [
                      {
                        "bin_start": 0,
                        "bin_end": 0.1,
                        "count": 88
                      },
                      {
                        "bin_start": 0.1,
                        "bin_end": 0.2,
                        "count": 0
                      },
                      {
                        "bin_start": 0.2,
                        "bin_end": 0.30000000000000004,
                        "count": 0
                      },
                      {
                        "bin_start": 0.30000000000000004,
                        "bin_end": 0.4,
                        "count": 0
                      },
                      {
                        "bin_start": 0.4,
                        "bin_end": 0.5,
                        "count": 0
                      },
                      {
                        "bin_start": 0.5,
                        "bin_end": 0.6000000000000001,
                        "count": 0
                      },
                      {
                        "bin_start": 0.6000000000000001,
                        "bin_end": 0.7000000000000001,
                        "count": 0
                      },
                      {
                        "bin_start": 0.7000000000000001,
                        "bin_end": 0.8,
                        "count": 0
                      },
                      {
                        "bin_start": 0.8,
                        "bin_end": 0.9,
                        "count": 0
                      },
                      {
                        "bin_start": 0.9,
                        "bin_end": 1,
                        "count": 98
                      }
                    ]
                  }
                },
                {
                  "name": "month",
                  "dtype": "object",
                  "stats": {
                    "unique_count": 9,
                    "nan_count": 0,
                    "categories": [
                      {
                        "name": "10",
                        "count": 29
                      },
                      {
                        "name": "04",
                        "count": 27
                      },
                      {
                        "name": "7 others",
                        "count": 130
                      }
                    ]
                  }
                },
                {
                  "name": "day_of_week",
                  "dtype": "object",
                  "stats": {
                    "unique_count": 3,
                    "nan_count": 0,
                    "categories": [
                      {
                        "name": "Thursday",
                        "count": 170
                      },
                      {
                        "name": "Tuesday",
                        "count": 15
                      },
                      {
                        "name": "Sunday",
                        "count": 1
                      }
                    ]
                  }
                },
                {
                  "name": "_deepnote_index_column",
                  "dtype": "int64"
                }
              ],
              "rows_top": [
                {
                  "episode": 1,
                  "director": "Ken Kwapis",
                  "writer": "Ricky Gervais;Stephen Merchant;Greg Daniels",
                  "imdb_rating": 7.6,
                  "total_votes": 3706,
                  "n_lines": 229,
                  "n_directions": 27,
                  "n_words": 2757,
                  "n_speak_char": 15,
                  "Angela": 1,
                  "Dwight": 1,
                  "Jim": 1,
                  "Kevin": 1,
                  "Michael": 1,
                  "Oscar": 1,
                  "Pam": 1,
                  "Phyllis": 1,
                  "Ryan": 1,
                  "Stanley": 1,
                  "Kelly": 0,
                  "Toby": 0,
                  "Meredith": 0,
                  "Darryl": 0,
                  "Creed": 0,
                  "Andy": 0,
                  "Erin": 0,
                  "month": "03",
                  "day_of_week": "Thursday",
                  "_deepnote_index_column": 0
                },
                {
                  "episode": 2,
                  "director": "Ken Kwapis",
                  "writer": "B.J. Novak",
                  "imdb_rating": 8.3,
                  "total_votes": 3566,
                  "n_lines": 203,
                  "n_directions": 20,
                  "n_words": 2808,
                  "n_speak_char": 12,
                  "Angela": 1,
                  "Dwight": 1,
                  "Jim": 1,
                  "Kevin": 1,
                  "Michael": 1,
                  "Oscar": 1,
                  "Pam": 1,
                  "Phyllis": 0,
                  "Ryan": 1,
                  "Stanley": 1,
                  "Kelly": 1,
                  "Toby": 1,
                  "Meredith": 0,
                  "Darryl": 0,
                  "Creed": 0,
                  "Andy": 0,
                  "Erin": 0,
                  "month": "03",
                  "day_of_week": "Tuesday",
                  "_deepnote_index_column": 1
                },
                {
                  "episode": 3,
                  "director": "Ken Whittingham",
                  "writer": "Paul Lieberstein",
                  "imdb_rating": 7.9,
                  "total_votes": 2983,
                  "n_lines": 244,
                  "n_directions": 21,
                  "n_words": 2769,
                  "n_speak_char": 13,
                  "Angela": 1,
                  "Dwight": 1,
                  "Jim": 1,
                  "Kevin": 1,
                  "Michael": 1,
                  "Oscar": 1,
                  "Pam": 1,
                  "Phyllis": 0,
                  "Ryan": 1,
                  "Stanley": 1,
                  "Kelly": 0,
                  "Toby": 0,
                  "Meredith": 1,
                  "Darryl": 0,
                  "Creed": 0,
                  "Andy": 0,
                  "Erin": 0,
                  "month": "04",
                  "day_of_week": "Tuesday",
                  "_deepnote_index_column": 2
                },
                {
                  "episode": 4,
                  "director": "Bryan Gordon",
                  "writer": "Michael Schur",
                  "imdb_rating": 8.1,
                  "total_votes": 2886,
                  "n_lines": 243,
                  "n_directions": 24,
                  "n_words": 2939,
                  "n_speak_char": 14,
                  "Angela": 1,
                  "Dwight": 1,
                  "Jim": 1,
                  "Kevin": 1,
                  "Michael": 1,
                  "Oscar": 1,
                  "Pam": 1,
                  "Phyllis": 1,
                  "Ryan": 1,
                  "Stanley": 1,
                  "Kelly": 0,
                  "Toby": 1,
                  "Meredith": 1,
                  "Darryl": 0,
                  "Creed": 0,
                  "Andy": 0,
                  "Erin": 0,
                  "month": "04",
                  "day_of_week": "Tuesday",
                  "_deepnote_index_column": 3
                },
                {
                  "episode": 5,
                  "director": "Greg Daniels",
                  "writer": "Greg Daniels",
                  "imdb_rating": 8.4,
                  "total_votes": 3179,
                  "n_lines": 230,
                  "n_directions": 49,
                  "n_words": 2437,
                  "n_speak_char": 18,
                  "Angela": 1,
                  "Dwight": 1,
                  "Jim": 1,
                  "Kevin": 1,
                  "Michael": 1,
                  "Oscar": 1,
                  "Pam": 1,
                  "Phyllis": 1,
                  "Ryan": 1,
                  "Stanley": 1,
                  "Kelly": 0,
                  "Toby": 0,
                  "Meredith": 0,
                  "Darryl": 1,
                  "Creed": 0,
                  "Andy": 0,
                  "Erin": 0,
                  "month": "04",
                  "day_of_week": "Tuesday",
                  "_deepnote_index_column": 4
                },
                {
                  "episode": 6,
                  "director": "Amy Heckerling",
                  "writer": "Mindy Kaling",
                  "imdb_rating": 7.8,
                  "total_votes": 2852,
                  "n_lines": 346,
                  "n_directions": 39,
                  "n_words": 3028,
                  "n_speak_char": 13,
                  "Angela": 1,
                  "Dwight": 1,
                  "Jim": 1,
                  "Kevin": 1,
                  "Michael": 1,
                  "Oscar": 1,
                  "Pam": 1,
                  "Phyllis": 0,
                  "Ryan": 1,
                  "Stanley": 1,
                  "Kelly": 0,
                  "Toby": 1,
                  "Meredith": 0,
                  "Darryl": 0,
                  "Creed": 0,
                  "Andy": 0,
                  "Erin": 0,
                  "month": "04",
                  "day_of_week": "Tuesday",
                  "_deepnote_index_column": 5
                },
                {
                  "episode": 1,
                  "director": "Greg Daniels",
                  "writer": "Mindy Kaling",
                  "imdb_rating": 8.7,
                  "total_votes": 3213,
                  "n_lines": 256,
                  "n_directions": 59,
                  "n_words": 2812,
                  "n_speak_char": 20,
                  "Angela": 1,
                  "Dwight": 1,
                  "Jim": 1,
                  "Kevin": 1,
                  "Michael": 1,
                  "Oscar": 1,
                  "Pam": 1,
                  "Phyllis": 1,
                  "Ryan": 1,
                  "Stanley": 1,
                  "Kelly": 1,
                  "Toby": 0,
                  "Meredith": 0,
                  "Darryl": 1,
                  "Creed": 0,
                  "Andy": 0,
                  "Erin": 0,
                  "month": "09",
                  "day_of_week": "Tuesday",
                  "_deepnote_index_column": 6
                },
                {
                  "episode": 2,
                  "director": "Ken Kwapis",
                  "writer": "B.J. Novak",
                  "imdb_rating": 8.2,
                  "total_votes": 2736,
                  "n_lines": 283,
                  "n_directions": 35,
                  "n_words": 3064,
                  "n_speak_char": 26,
                  "Angela": 1,
                  "Dwight": 1,
                  "Jim": 1,
                  "Kevin": 1,
                  "Michael": 1,
                  "Oscar": 0,
                  "Pam": 1,
                  "Phyllis": 1,
                  "Ryan": 1,
                  "Stanley": 1,
                  "Kelly": 0,
                  "Toby": 1,
                  "Meredith": 1,
                  "Darryl": 1,
                  "Creed": 0,
                  "Andy": 0,
                  "Erin": 0,
                  "month": "09",
                  "day_of_week": "Tuesday",
                  "_deepnote_index_column": 7
                },
                {
                  "episode": 3,
                  "director": "Paul Feig",
                  "writer": "Michael Schur",
                  "imdb_rating": 8.4,
                  "total_votes": 2742,
                  "n_lines": 281,
                  "n_directions": 33,
                  "n_words": 2604,
                  "n_speak_char": 14,
                  "Angela": 1,
                  "Dwight": 1,
                  "Jim": 1,
                  "Kevin": 1,
                  "Michael": 1,
                  "Oscar": 1,
                  "Pam": 1,
                  "Phyllis": 1,
                  "Ryan": 1,
                  "Stanley": 1,
                  "Kelly": 0,
                  "Toby": 0,
                  "Meredith": 1,
                  "Darryl": 0,
                  "Creed": 0,
                  "Andy": 0,
                  "Erin": 0,
                  "month": "10",
                  "day_of_week": "Tuesday",
                  "_deepnote_index_column": 8
                },
                {
                  "episode": 4,
                  "director": "Ken Kwapis",
                  "writer": "B.J. Novak",
                  "imdb_rating": 8.4,
                  "total_votes": 2713,
                  "n_lines": 319,
                  "n_directions": 34,
                  "n_words": 2766,
                  "n_speak_char": 16,
                  "Angela": 1,
                  "Dwight": 1,
                  "Jim": 1,
                  "Kevin": 1,
                  "Michael": 1,
                  "Oscar": 1,
                  "Pam": 1,
                  "Phyllis": 1,
                  "Ryan": 1,
                  "Stanley": 1,
                  "Kelly": 1,
                  "Toby": 0,
                  "Meredith": 1,
                  "Darryl": 0,
                  "Creed": 0,
                  "Andy": 0,
                  "Erin": 0,
                  "month": "10",
                  "day_of_week": "Tuesday",
                  "_deepnote_index_column": 9
                },
                {
                  "episode": 5,
                  "director": "Paul Feig",
                  "writer": "Greg Daniels",
                  "imdb_rating": 8.2,
                  "total_votes": 2561,
                  "n_lines": 269,
                  "n_directions": 40,
                  "n_words": 2659,
                  "n_speak_char": 16,
                  "Angela": 1,
                  "Dwight": 1,
                  "Jim": 1,
                  "Kevin": 1,
                  "Michael": 1,
                  "Oscar": 1,
                  "Pam": 1,
                  "Phyllis": 1,
                  "Ryan": 1,
                  "Stanley": 1,
                  "Kelly": 1,
                  "Toby": 0,
                  "Meredith": 0,
                  "Darryl": 0,
                  "Creed": 1,
                  "Andy": 0,
                  "Erin": 0,
                  "month": "10",
                  "day_of_week": "Tuesday",
                  "_deepnote_index_column": 10
                },
                {
                  "episode": 6,
                  "director": "Ken Kwapis",
                  "writer": "Gene Stupnitsky;Lee Eisenberg",
                  "imdb_rating": 8.2,
                  "total_votes": 2550,
                  "n_lines": 268,
                  "n_directions": 38,
                  "n_words": 2517,
                  "n_speak_char": 12,
                  "Angela": 1,
                  "Dwight": 1,
                  "Jim": 1,
                  "Kevin": 1,
                  "Michael": 1,
                  "Oscar": 0,
                  "Pam": 1,
                  "Phyllis": 0,
                  "Ryan": 1,
                  "Stanley": 1,
                  "Kelly": 1,
                  "Toby": 1,
                  "Meredith": 0,
                  "Darryl": 0,
                  "Creed": 0,
                  "Andy": 0,
                  "Erin": 0,
                  "month": "11",
                  "day_of_week": "Tuesday",
                  "_deepnote_index_column": 11
                },
                {
                  "episode": 7,
                  "director": "Greg Daniels",
                  "writer": "Paul Lieberstein",
                  "imdb_rating": 8.6,
                  "total_votes": 2631,
                  "n_lines": 254,
                  "n_directions": 46,
                  "n_words": 2445,
                  "n_speak_char": 14,
                  "Angela": 0,
                  "Dwight": 1,
                  "Jim": 1,
                  "Kevin": 1,
                  "Michael": 1,
                  "Oscar": 1,
                  "Pam": 1,
                  "Phyllis": 1,
                  "Ryan": 1,
                  "Stanley": 0,
                  "Kelly": 1,
                  "Toby": 1,
                  "Meredith": 0,
                  "Darryl": 0,
                  "Creed": 0,
                  "Andy": 0,
                  "Erin": 0,
                  "month": "11",
                  "day_of_week": "Tuesday",
                  "_deepnote_index_column": 12
                },
                {
                  "episode": 8,
                  "director": "Paul Feig",
                  "writer": "Larry Willmore",
                  "imdb_rating": 8.2,
                  "total_votes": 2416,
                  "n_lines": 273,
                  "n_directions": 30,
                  "n_words": 2869,
                  "n_speak_char": 14,
                  "Angela": 1,
                  "Dwight": 1,
                  "Jim": 1,
                  "Kevin": 1,
                  "Michael": 1,
                  "Oscar": 1,
                  "Pam": 1,
                  "Phyllis": 1,
                  "Ryan": 1,
                  "Stanley": 1,
                  "Kelly": 1,
                  "Toby": 1,
                  "Meredith": 0,
                  "Darryl": 0,
                  "Creed": 1,
                  "Andy": 0,
                  "Erin": 0,
                  "month": "11",
                  "day_of_week": "Tuesday",
                  "_deepnote_index_column": 13
                },
                {
                  "episode": 9,
                  "director": "Paul Feig",
                  "writer": "Jennifer Celotta",
                  "imdb_rating": 8.4,
                  "total_votes": 2527,
                  "n_lines": 275,
                  "n_directions": 39,
                  "n_words": 2585,
                  "n_speak_char": 19,
                  "Angela": 1,
                  "Dwight": 1,
                  "Jim": 1,
                  "Kevin": 1,
                  "Michael": 1,
                  "Oscar": 1,
                  "Pam": 1,
                  "Phyllis": 1,
                  "Ryan": 1,
                  "Stanley": 1,
                  "Kelly": 1,
                  "Toby": 0,
                  "Meredith": 0,
                  "Darryl": 0,
                  "Creed": 0,
                  "Andy": 0,
                  "Erin": 0,
                  "month": "11",
                  "day_of_week": "Tuesday",
                  "_deepnote_index_column": 14
                },
                {
                  "episode": 10,
                  "director": "Charles McDougall",
                  "writer": "Michael Schur",
                  "imdb_rating": 8.8,
                  "total_votes": 2755,
                  "n_lines": 283,
                  "n_directions": 42,
                  "n_words": 2788,
                  "n_speak_char": 20,
                  "Angela": 1,
                  "Dwight": 1,
                  "Jim": 1,
                  "Kevin": 1,
                  "Michael": 1,
                  "Oscar": 1,
                  "Pam": 1,
                  "Phyllis": 1,
                  "Ryan": 1,
                  "Stanley": 1,
                  "Kelly": 1,
                  "Toby": 1,
                  "Meredith": 1,
                  "Darryl": 1,
                  "Creed": 1,
                  "Andy": 0,
                  "Erin": 0,
                  "month": "12",
                  "day_of_week": "Tuesday",
                  "_deepnote_index_column": 15
                },
                {
                  "episode": 11,
                  "director": "Ken Kwapis",
                  "writer": "Greg Daniels",
                  "imdb_rating": 8.6,
                  "total_votes": 2679,
                  "n_lines": 223,
                  "n_directions": 11,
                  "n_words": 2534,
                  "n_speak_char": 16,
                  "Angela": 1,
                  "Dwight": 1,
                  "Jim": 1,
                  "Kevin": 0,
                  "Michael": 1,
                  "Oscar": 1,
                  "Pam": 1,
                  "Phyllis": 1,
                  "Ryan": 1,
                  "Stanley": 1,
                  "Kelly": 1,
                  "Toby": 0,
                  "Meredith": 1,
                  "Darryl": 1,
                  "Creed": 0,
                  "Andy": 0,
                  "Erin": 0,
                  "month": "01",
                  "day_of_week": "Thursday",
                  "_deepnote_index_column": 16
                }
              ],
              "rows_bottom": [
                {
                  "episode": 6,
                  "director": "John Krasinski",
                  "writer": "Dan Sterling",
                  "imdb_rating": 7.8,
                  "total_votes": 1455,
                  "n_lines": 283,
                  "n_directions": 67,
                  "n_words": 3074,
                  "n_speak_char": 19,
                  "Angela": 1,
                  "Dwight": 1,
                  "Jim": 1,
                  "Kevin": 1,
                  "Michael": 0,
                  "Oscar": 1,
                  "Pam": 1,
                  "Phyllis": 0,
                  "Ryan": 0,
                  "Stanley": 0,
                  "Kelly": 0,
                  "Toby": 1,
                  "Meredith": 1,
                  "Darryl": 1,
                  "Creed": 1,
                  "Andy": 1,
                  "Erin": 1,
                  "month": "11",
                  "day_of_week": "Thursday",
                  "_deepnote_index_column": 168
                },
                {
                  "episode": 7,
                  "director": "Rodman Flender",
                  "writer": "Carrie Kemper",
                  "imdb_rating": 7.7,
                  "total_votes": 1406,
                  "n_lines": 294,
                  "n_directions": 56,
                  "n_words": 3042,
                  "n_speak_char": 24,
                  "Angela": 1,
                  "Dwight": 1,
                  "Jim": 1,
                  "Kevin": 1,
                  "Michael": 0,
                  "Oscar": 1,
                  "Pam": 1,
                  "Phyllis": 1,
                  "Ryan": 0,
                  "Stanley": 0,
                  "Kelly": 0,
                  "Toby": 1,
                  "Meredith": 1,
                  "Darryl": 1,
                  "Creed": 1,
                  "Andy": 1,
                  "Erin": 1,
                  "month": "11",
                  "day_of_week": "Thursday",
                  "_deepnote_index_column": 169
                },
                {
                  "episode": 8,
                  "director": "Brent Forrester",
                  "writer": "Graham Wagner",
                  "imdb_rating": 7.8,
                  "total_votes": 1438,
                  "n_lines": 322,
                  "n_directions": 42,
                  "n_words": 2890,
                  "n_speak_char": 19,
                  "Angela": 1,
                  "Dwight": 1,
                  "Jim": 1,
                  "Kevin": 1,
                  "Michael": 0,
                  "Oscar": 1,
                  "Pam": 1,
                  "Phyllis": 1,
                  "Ryan": 0,
                  "Stanley": 1,
                  "Kelly": 0,
                  "Toby": 1,
                  "Meredith": 1,
                  "Darryl": 1,
                  "Creed": 1,
                  "Andy": 0,
                  "Erin": 1,
                  "month": "11",
                  "day_of_week": "Thursday",
                  "_deepnote_index_column": 170
                },
                {
                  "episode": 9,
                  "director": "Charles McDougall",
                  "writer": "Robert Padnick",
                  "imdb_rating": 8.4,
                  "total_votes": 1634,
                  "n_lines": 287,
                  "n_directions": 66,
                  "n_words": 2780,
                  "n_speak_char": 15,
                  "Angela": 1,
                  "Dwight": 1,
                  "Jim": 1,
                  "Kevin": 1,
                  "Michael": 0,
                  "Oscar": 1,
                  "Pam": 1,
                  "Phyllis": 1,
                  "Ryan": 0,
                  "Stanley": 1,
                  "Kelly": 0,
                  "Toby": 1,
                  "Meredith": 1,
                  "Darryl": 1,
                  "Creed": 1,
                  "Andy": 0,
                  "Erin": 1,
                  "month": "12",
                  "day_of_week": "Thursday",
                  "_deepnote_index_column": 171
                },
                {
                  "episode": 10,
                  "director": "Rodman Flender",
                  "writer": "Nicki Schwartz-Wright",
                  "imdb_rating": 7.7,
                  "total_votes": 1470,
                  "n_lines": 253,
                  "n_directions": 52,
                  "n_words": 2925,
                  "n_speak_char": 21,
                  "Angela": 1,
                  "Dwight": 1,
                  "Jim": 1,
                  "Kevin": 1,
                  "Michael": 0,
                  "Oscar": 1,
                  "Pam": 1,
                  "Phyllis": 1,
                  "Ryan": 0,
                  "Stanley": 1,
                  "Kelly": 0,
                  "Toby": 0,
                  "Meredith": 1,
                  "Darryl": 1,
                  "Creed": 1,
                  "Andy": 0,
                  "Erin": 1,
                  "month": "01",
                  "day_of_week": "Thursday",
                  "_deepnote_index_column": 172
                },
                {
                  "episode": 11,
                  "director": "Matt Sohn",
                  "writer": "Dan Greaney",
                  "imdb_rating": 7.9,
                  "total_votes": 1441,
                  "n_lines": 268,
                  "n_directions": 65,
                  "n_words": 3090,
                  "n_speak_char": 24,
                  "Angela": 1,
                  "Dwight": 1,
                  "Jim": 1,
                  "Kevin": 1,
                  "Michael": 0,
                  "Oscar": 1,
                  "Pam": 1,
                  "Phyllis": 1,
                  "Ryan": 0,
                  "Stanley": 1,
                  "Kelly": 0,
                  "Toby": 0,
                  "Meredith": 1,
                  "Darryl": 1,
                  "Creed": 1,
                  "Andy": 0,
                  "Erin": 1,
                  "month": "01",
                  "day_of_week": "Thursday",
                  "_deepnote_index_column": 173
                },
                {
                  "episode": 12,
                  "director": "Kelly Cantley-Kashima",
                  "writer": "Jonathan Green;Gabe Miller",
                  "imdb_rating": 8,
                  "total_votes": 1508,
                  "n_lines": 283,
                  "n_directions": 39,
                  "n_words": 2999,
                  "n_speak_char": 33,
                  "Angela": 1,
                  "Dwight": 1,
                  "Jim": 1,
                  "Kevin": 1,
                  "Michael": 0,
                  "Oscar": 1,
                  "Pam": 1,
                  "Phyllis": 1,
                  "Ryan": 0,
                  "Stanley": 1,
                  "Kelly": 0,
                  "Toby": 1,
                  "Meredith": 1,
                  "Darryl": 1,
                  "Creed": 1,
                  "Andy": 0,
                  "Erin": 1,
                  "month": "01",
                  "day_of_week": "Thursday",
                  "_deepnote_index_column": 174
                },
                {
                  "episode": 13,
                  "director": "David Rogers",
                  "writer": "Carrie Kemper",
                  "imdb_rating": 7.7,
                  "total_votes": 1394,
                  "n_lines": 279,
                  "n_directions": 30,
                  "n_words": 3145,
                  "n_speak_char": 25,
                  "Angela": 1,
                  "Dwight": 1,
                  "Jim": 1,
                  "Kevin": 1,
                  "Michael": 0,
                  "Oscar": 1,
                  "Pam": 1,
                  "Phyllis": 0,
                  "Ryan": 0,
                  "Stanley": 1,
                  "Kelly": 0,
                  "Toby": 0,
                  "Meredith": 1,
                  "Darryl": 1,
                  "Creed": 0,
                  "Andy": 0,
                  "Erin": 1,
                  "month": "01",
                  "day_of_week": "Thursday",
                  "_deepnote_index_column": 175
                },
                {
                  "episode": 14,
                  "director": "Lee Kirk",
                  "writer": "Owen Ellickson",
                  "imdb_rating": 7.6,
                  "total_votes": 1402,
                  "n_lines": 260,
                  "n_directions": 63,
                  "n_words": 3047,
                  "n_speak_char": 25,
                  "Angela": 1,
                  "Dwight": 1,
                  "Jim": 1,
                  "Kevin": 1,
                  "Michael": 0,
                  "Oscar": 1,
                  "Pam": 1,
                  "Phyllis": 1,
                  "Ryan": 0,
                  "Stanley": 0,
                  "Kelly": 0,
                  "Toby": 1,
                  "Meredith": 1,
                  "Darryl": 1,
                  "Creed": 1,
                  "Andy": 0,
                  "Erin": 1,
                  "month": "01",
                  "day_of_week": "Thursday",
                  "_deepnote_index_column": 176
                },
                {
                  "episode": 15,
                  "director": "Troy Miller",
                  "writer": "Allison Silverman",
                  "imdb_rating": 7.4,
                  "total_votes": 1407,
                  "n_lines": 260,
                  "n_directions": 70,
                  "n_words": 3076,
                  "n_speak_char": 21,
                  "Angela": 1,
                  "Dwight": 1,
                  "Jim": 1,
                  "Kevin": 1,
                  "Michael": 0,
                  "Oscar": 1,
                  "Pam": 1,
                  "Phyllis": 1,
                  "Ryan": 0,
                  "Stanley": 1,
                  "Kelly": 0,
                  "Toby": 0,
                  "Meredith": 1,
                  "Darryl": 1,
                  "Creed": 0,
                  "Andy": 1,
                  "Erin": 1,
                  "month": "02",
                  "day_of_week": "Thursday",
                  "_deepnote_index_column": 177
                },
                {
                  "episode": 16,
                  "director": "Jon Favreau",
                  "writer": "Graham Wagner",
                  "imdb_rating": 8.2,
                  "total_votes": 1572,
                  "n_lines": 501,
                  "n_directions": 62,
                  "n_words": 5240,
                  "n_speak_char": 27,
                  "Angela": 1,
                  "Dwight": 1,
                  "Jim": 1,
                  "Kevin": 1,
                  "Michael": 0,
                  "Oscar": 1,
                  "Pam": 1,
                  "Phyllis": 1,
                  "Ryan": 0,
                  "Stanley": 1,
                  "Kelly": 0,
                  "Toby": 1,
                  "Meredith": 1,
                  "Darryl": 1,
                  "Creed": 1,
                  "Andy": 1,
                  "Erin": 1,
                  "month": "02",
                  "day_of_week": "Thursday",
                  "_deepnote_index_column": 178
                },
                {
                  "episode": 17,
                  "director": "Paul Lieberstein",
                  "writer": "Paul Lieberstein",
                  "imdb_rating": 7.5,
                  "total_votes": 1656,
                  "n_lines": 218,
                  "n_directions": 61,
                  "n_words": 2451,
                  "n_speak_char": 25,
                  "Angela": 1,
                  "Dwight": 1,
                  "Jim": 1,
                  "Kevin": 1,
                  "Michael": 0,
                  "Oscar": 1,
                  "Pam": 1,
                  "Phyllis": 1,
                  "Ryan": 0,
                  "Stanley": 1,
                  "Kelly": 0,
                  "Toby": 0,
                  "Meredith": 1,
                  "Darryl": 1,
                  "Creed": 1,
                  "Andy": 1,
                  "Erin": 1,
                  "month": "03",
                  "day_of_week": "Thursday",
                  "_deepnote_index_column": 179
                },
                {
                  "episode": 18,
                  "director": "Jennifer Celotta",
                  "writer": "Tim McAuliffe",
                  "imdb_rating": 8,
                  "total_votes": 1445,
                  "n_lines": 318,
                  "n_directions": 55,
                  "n_words": 2707,
                  "n_speak_char": 28,
                  "Angela": 1,
                  "Dwight": 1,
                  "Jim": 1,
                  "Kevin": 1,
                  "Michael": 0,
                  "Oscar": 1,
                  "Pam": 1,
                  "Phyllis": 1,
                  "Ryan": 0,
                  "Stanley": 1,
                  "Kelly": 0,
                  "Toby": 1,
                  "Meredith": 1,
                  "Darryl": 1,
                  "Creed": 0,
                  "Andy": 1,
                  "Erin": 1,
                  "month": "04",
                  "day_of_week": "Thursday",
                  "_deepnote_index_column": 180
                },
                {
                  "episode": 19,
                  "director": "Matt Sohn",
                  "writer": "Dan Sterling",
                  "imdb_rating": 8,
                  "total_votes": 1484,
                  "n_lines": 273,
                  "n_directions": 59,
                  "n_words": 2965,
                  "n_speak_char": 24,
                  "Angela": 1,
                  "Dwight": 1,
                  "Jim": 1,
                  "Kevin": 1,
                  "Michael": 0,
                  "Oscar": 1,
                  "Pam": 1,
                  "Phyllis": 1,
                  "Ryan": 0,
                  "Stanley": 1,
                  "Kelly": 0,
                  "Toby": 1,
                  "Meredith": 1,
                  "Darryl": 0,
                  "Creed": 1,
                  "Andy": 1,
                  "Erin": 1,
                  "month": "04",
                  "day_of_week": "Thursday",
                  "_deepnote_index_column": 181
                },
                {
                  "episode": 20,
                  "director": "Jesse Peretz",
                  "writer": "Halsted Sullivan;Warren Lieberstein",
                  "imdb_rating": 8,
                  "total_votes": 1482,
                  "n_lines": 234,
                  "n_directions": 48,
                  "n_words": 2564,
                  "n_speak_char": 27,
                  "Angela": 1,
                  "Dwight": 1,
                  "Jim": 1,
                  "Kevin": 1,
                  "Michael": 0,
                  "Oscar": 1,
                  "Pam": 1,
                  "Phyllis": 0,
                  "Ryan": 0,
                  "Stanley": 1,
                  "Kelly": 0,
                  "Toby": 1,
                  "Meredith": 0,
                  "Darryl": 1,
                  "Creed": 1,
                  "Andy": 1,
                  "Erin": 1,
                  "month": "04",
                  "day_of_week": "Thursday",
                  "_deepnote_index_column": 182
                },
                {
                  "episode": 21,
                  "director": "Jeffrey Blitz",
                  "writer": "Nicki Schwartz-Wright",
                  "imdb_rating": 8.9,
                  "total_votes": 2041,
                  "n_lines": 382,
                  "n_directions": 33,
                  "n_words": 4333,
                  "n_speak_char": 20,
                  "Angela": 1,
                  "Dwight": 1,
                  "Jim": 1,
                  "Kevin": 1,
                  "Michael": 0,
                  "Oscar": 1,
                  "Pam": 1,
                  "Phyllis": 1,
                  "Ryan": 0,
                  "Stanley": 1,
                  "Kelly": 0,
                  "Toby": 1,
                  "Meredith": 1,
                  "Darryl": 1,
                  "Creed": 1,
                  "Andy": 1,
                  "Erin": 1,
                  "month": "05",
                  "day_of_week": "Thursday",
                  "_deepnote_index_column": 183
                },
                {
                  "episode": 22,
                  "director": "David Rogers",
                  "writer": "Brent Forrester",
                  "imdb_rating": 9.3,
                  "total_votes": 2860,
                  "n_lines": 501,
                  "n_directions": 54,
                  "n_words": 4965,
                  "n_speak_char": 30,
                  "Angela": 1,
                  "Dwight": 1,
                  "Jim": 1,
                  "Kevin": 1,
                  "Michael": 0,
                  "Oscar": 1,
                  "Pam": 1,
                  "Phyllis": 1,
                  "Ryan": 0,
                  "Stanley": 1,
                  "Kelly": 0,
                  "Toby": 0,
                  "Meredith": 1,
                  "Darryl": 1,
                  "Creed": 1,
                  "Andy": 1,
                  "Erin": 1,
                  "month": "05",
                  "day_of_week": "Thursday",
                  "_deepnote_index_column": 184
                },
                {
                  "episode": 24,
                  "director": "Ken Kwapis",
                  "writer": "Greg Daniels",
                  "imdb_rating": 9.7,
                  "total_votes": 7934,
                  "n_lines": 522,
                  "n_directions": 107,
                  "n_words": 5960,
                  "n_speak_char": 54,
                  "Angela": 1,
                  "Dwight": 1,
                  "Jim": 1,
                  "Kevin": 1,
                  "Michael": 1,
                  "Oscar": 1,
                  "Pam": 1,
                  "Phyllis": 1,
                  "Ryan": 1,
                  "Stanley": 1,
                  "Kelly": 1,
                  "Toby": 1,
                  "Meredith": 1,
                  "Darryl": 1,
                  "Creed": 1,
                  "Andy": 1,
                  "Erin": 1,
                  "month": "05",
                  "day_of_week": "Thursday",
                  "_deepnote_index_column": 185
                }
              ]
            },
            "text/plain": "     episode         director                                       writer  \\\n0          1       Ken Kwapis  Ricky Gervais;Stephen Merchant;Greg Daniels   \n1          2       Ken Kwapis                                   B.J. Novak   \n2          3  Ken Whittingham                             Paul Lieberstein   \n3          4     Bryan Gordon                                Michael Schur   \n4          5     Greg Daniels                                 Greg Daniels   \n..       ...              ...                                          ...   \n181       19        Matt Sohn                                 Dan Sterling   \n182       20     Jesse Peretz          Halsted Sullivan;Warren Lieberstein   \n183       21    Jeffrey Blitz                        Nicki Schwartz-Wright   \n184       22     David Rogers                              Brent Forrester   \n185       24       Ken Kwapis                                 Greg Daniels   \n\n     imdb_rating  total_votes  n_lines  n_directions  n_words  n_speak_char  \\\n0            7.6         3706      229            27     2757            15   \n1            8.3         3566      203            20     2808            12   \n2            7.9         2983      244            21     2769            13   \n3            8.1         2886      243            24     2939            14   \n4            8.4         3179      230            49     2437            18   \n..           ...          ...      ...           ...      ...           ...   \n181          8.0         1484      273            59     2965            24   \n182          8.0         1482      234            48     2564            27   \n183          8.9         2041      382            33     4333            20   \n184          9.3         2860      501            54     4965            30   \n185          9.7         7934      522           107     5960            54   \n\n     Angela  ...  Stanley  Kelly  Toby  Meredith  Darryl  Creed  Andy  Erin  \\\n0         1  ...        1      0     0         0       0      0     0     0   \n1         1  ...        1      1     1         0       0      0     0     0   \n2         1  ...        1      0     0         1       0      0     0     0   \n3         1  ...        1      0     1         1       0      0     0     0   \n4         1  ...        1      0     0         0       1      0     0     0   \n..      ...  ...      ...    ...   ...       ...     ...    ...   ...   ...   \n181       1  ...        1      0     1         1       0      1     1     1   \n182       1  ...        1      0     1         0       1      1     1     1   \n183       1  ...        1      0     1         1       1      1     1     1   \n184       1  ...        1      0     0         1       1      1     1     1   \n185       1  ...        1      1     1         1       1      1     1     1   \n\n     month  day_of_week  \n0       03     Thursday  \n1       03      Tuesday  \n2       04      Tuesday  \n3       04      Tuesday  \n4       04      Tuesday  \n..     ...          ...  \n181     04     Thursday  \n182     04     Thursday  \n183     05     Thursday  \n184     05     Thursday  \n185     05     Thursday  \n\n[186 rows x 28 columns]",
            "text/html": "<div>\n<style scoped>\n    .dataframe tbody tr th:only-of-type {\n        vertical-align: middle;\n    }\n\n    .dataframe tbody tr th {\n        vertical-align: top;\n    }\n\n    .dataframe thead th {\n        text-align: right;\n    }\n</style>\n<table border=\"1\" class=\"dataframe\">\n  <thead>\n    <tr style=\"text-align: right;\">\n      <th></th>\n      <th>episode</th>\n      <th>director</th>\n      <th>writer</th>\n      <th>imdb_rating</th>\n      <th>total_votes</th>\n      <th>n_lines</th>\n      <th>n_directions</th>\n      <th>n_words</th>\n      <th>n_speak_char</th>\n      <th>Angela</th>\n      <th>...</th>\n      <th>Stanley</th>\n      <th>Kelly</th>\n      <th>Toby</th>\n      <th>Meredith</th>\n      <th>Darryl</th>\n      <th>Creed</th>\n      <th>Andy</th>\n      <th>Erin</th>\n      <th>month</th>\n      <th>day_of_week</th>\n    </tr>\n  </thead>\n  <tbody>\n    <tr>\n      <th>0</th>\n      <td>1</td>\n      <td>Ken Kwapis</td>\n      <td>Ricky Gervais;Stephen Merchant;Greg Daniels</td>\n      <td>7.6</td>\n      <td>3706</td>\n      <td>229</td>\n      <td>27</td>\n      <td>2757</td>\n      <td>15</td>\n      <td>1</td>\n      <td>...</td>\n      <td>1</td>\n      <td>0</td>\n      <td>0</td>\n      <td>0</td>\n      <td>0</td>\n      <td>0</td>\n      <td>0</td>\n      <td>0</td>\n      <td>03</td>\n      <td>Thursday</td>\n    </tr>\n    <tr>\n      <th>1</th>\n      <td>2</td>\n      <td>Ken Kwapis</td>\n      <td>B.J. Novak</td>\n      <td>8.3</td>\n      <td>3566</td>\n      <td>203</td>\n      <td>20</td>\n      <td>2808</td>\n      <td>12</td>\n      <td>1</td>\n      <td>...</td>\n      <td>1</td>\n      <td>1</td>\n      <td>1</td>\n      <td>0</td>\n      <td>0</td>\n      <td>0</td>\n      <td>0</td>\n      <td>0</td>\n      <td>03</td>\n      <td>Tuesday</td>\n    </tr>\n    <tr>\n      <th>2</th>\n      <td>3</td>\n      <td>Ken Whittingham</td>\n      <td>Paul Lieberstein</td>\n      <td>7.9</td>\n      <td>2983</td>\n      <td>244</td>\n      <td>21</td>\n      <td>2769</td>\n      <td>13</td>\n      <td>1</td>\n      <td>...</td>\n      <td>1</td>\n      <td>0</td>\n      <td>0</td>\n      <td>1</td>\n      <td>0</td>\n      <td>0</td>\n      <td>0</td>\n      <td>0</td>\n      <td>04</td>\n      <td>Tuesday</td>\n    </tr>\n    <tr>\n      <th>3</th>\n      <td>4</td>\n      <td>Bryan Gordon</td>\n      <td>Michael Schur</td>\n      <td>8.1</td>\n      <td>2886</td>\n      <td>243</td>\n      <td>24</td>\n      <td>2939</td>\n      <td>14</td>\n      <td>1</td>\n      <td>...</td>\n      <td>1</td>\n      <td>0</td>\n      <td>1</td>\n      <td>1</td>\n      <td>0</td>\n      <td>0</td>\n      <td>0</td>\n      <td>0</td>\n      <td>04</td>\n      <td>Tuesday</td>\n    </tr>\n    <tr>\n      <th>4</th>\n      <td>5</td>\n      <td>Greg Daniels</td>\n      <td>Greg Daniels</td>\n      <td>8.4</td>\n      <td>3179</td>\n      <td>230</td>\n      <td>49</td>\n      <td>2437</td>\n      <td>18</td>\n      <td>1</td>\n      <td>...</td>\n      <td>1</td>\n      <td>0</td>\n      <td>0</td>\n      <td>0</td>\n      <td>1</td>\n      <td>0</td>\n      <td>0</td>\n      <td>0</td>\n      <td>04</td>\n      <td>Tuesday</td>\n    </tr>\n    <tr>\n      <th>...</th>\n      <td>...</td>\n      <td>...</td>\n      <td>...</td>\n      <td>...</td>\n      <td>...</td>\n      <td>...</td>\n      <td>...</td>\n      <td>...</td>\n      <td>...</td>\n      <td>...</td>\n      <td>...</td>\n      <td>...</td>\n      <td>...</td>\n      <td>...</td>\n      <td>...</td>\n      <td>...</td>\n      <td>...</td>\n      <td>...</td>\n      <td>...</td>\n      <td>...</td>\n      <td>...</td>\n    </tr>\n    <tr>\n      <th>181</th>\n      <td>19</td>\n      <td>Matt Sohn</td>\n      <td>Dan Sterling</td>\n      <td>8.0</td>\n      <td>1484</td>\n      <td>273</td>\n      <td>59</td>\n      <td>2965</td>\n      <td>24</td>\n      <td>1</td>\n      <td>...</td>\n      <td>1</td>\n      <td>0</td>\n      <td>1</td>\n      <td>1</td>\n      <td>0</td>\n      <td>1</td>\n      <td>1</td>\n      <td>1</td>\n      <td>04</td>\n      <td>Thursday</td>\n    </tr>\n    <tr>\n      <th>182</th>\n      <td>20</td>\n      <td>Jesse Peretz</td>\n      <td>Halsted Sullivan;Warren Lieberstein</td>\n      <td>8.0</td>\n      <td>1482</td>\n      <td>234</td>\n      <td>48</td>\n      <td>2564</td>\n      <td>27</td>\n      <td>1</td>\n      <td>...</td>\n      <td>1</td>\n      <td>0</td>\n      <td>1</td>\n      <td>0</td>\n      <td>1</td>\n      <td>1</td>\n      <td>1</td>\n      <td>1</td>\n      <td>04</td>\n      <td>Thursday</td>\n    </tr>\n    <tr>\n      <th>183</th>\n      <td>21</td>\n      <td>Jeffrey Blitz</td>\n      <td>Nicki Schwartz-Wright</td>\n      <td>8.9</td>\n      <td>2041</td>\n      <td>382</td>\n      <td>33</td>\n      <td>4333</td>\n      <td>20</td>\n      <td>1</td>\n      <td>...</td>\n      <td>1</td>\n      <td>0</td>\n      <td>1</td>\n      <td>1</td>\n      <td>1</td>\n      <td>1</td>\n      <td>1</td>\n      <td>1</td>\n      <td>05</td>\n      <td>Thursday</td>\n    </tr>\n    <tr>\n      <th>184</th>\n      <td>22</td>\n      <td>David Rogers</td>\n      <td>Brent Forrester</td>\n      <td>9.3</td>\n      <td>2860</td>\n      <td>501</td>\n      <td>54</td>\n      <td>4965</td>\n      <td>30</td>\n      <td>1</td>\n      <td>...</td>\n      <td>1</td>\n      <td>0</td>\n      <td>0</td>\n      <td>1</td>\n      <td>1</td>\n      <td>1</td>\n      <td>1</td>\n      <td>1</td>\n      <td>05</td>\n      <td>Thursday</td>\n    </tr>\n    <tr>\n      <th>185</th>\n      <td>24</td>\n      <td>Ken Kwapis</td>\n      <td>Greg Daniels</td>\n      <td>9.7</td>\n      <td>7934</td>\n      <td>522</td>\n      <td>107</td>\n      <td>5960</td>\n      <td>54</td>\n      <td>1</td>\n      <td>...</td>\n      <td>1</td>\n      <td>1</td>\n      <td>1</td>\n      <td>1</td>\n      <td>1</td>\n      <td>1</td>\n      <td>1</td>\n      <td>1</td>\n      <td>05</td>\n      <td>Thursday</td>\n    </tr>\n  </tbody>\n</table>\n<p>186 rows × 28 columns</p>\n</div>"
          },
          "metadata": {}
        }
      ]
    },
    {
      "cell_type": "code",
      "metadata": {
        "scrolled": true,
        "cell_id": "00010-1b741a75-0db8-4127-a454-9ec4da7ef33c",
        "deepnote_to_be_reexecuted": false,
        "source_hash": "9e85093a",
        "execution_start": 1614786284803,
        "execution_millis": 8,
        "deepnote_cell_type": "code"
      },
      "source": "ceci_ = pd.get_dummies(df_full)\nceci_.columns",
      "execution_count": 29,
      "outputs": [
        {
          "output_type": "execute_result",
          "execution_count": 29,
          "data": {
            "text/plain": "Index(['episode', 'imdb_rating', 'total_votes', 'n_lines', 'n_directions',\n       'n_words', 'n_speak_char', 'Angela', 'Dwight', 'Jim',\n       ...\n       'month_03', 'month_04', 'month_05', 'month_09', 'month_10', 'month_11',\n       'month_12', 'day_of_week_Sunday', 'day_of_week_Thursday',\n       'day_of_week_Tuesday'],\n      dtype='object', length=140)"
          },
          "metadata": {}
        }
      ]
    },
    {
      "cell_type": "code",
      "metadata": {
        "cell_id": "00011-e750759b-01cc-4fda-83e4-42417014e556",
        "deepnote_to_be_reexecuted": false,
        "source_hash": "55ac985b",
        "execution_start": 1614786289906,
        "execution_millis": 15,
        "deepnote_cell_type": "code"
      },
      "source": "#Dont run!!!!!!!!\n\n\nkk = ceci_.drop(to_elim, axis=1)\nkk.columns",
      "execution_count": 30,
      "outputs": [
        {
          "output_type": "execute_result",
          "execution_count": 30,
          "data": {
            "text/plain": "Index(['episode', 'imdb_rating', 'total_votes', 'n_lines', 'n_directions',\n       'n_words', 'n_speak_char', 'Angela', 'Dwight', 'Jim',\n       ...\n       'month_03', 'month_04', 'month_05', 'month_09', 'month_10', 'month_11',\n       'month_12', 'day_of_week_Sunday', 'day_of_week_Thursday',\n       'day_of_week_Tuesday'],\n      dtype='object', length=113)"
          },
          "metadata": {}
        }
      ]
    },
    {
      "cell_type": "markdown",
      "source": "# Train model",
      "metadata": {
        "cell_id": "00012-dad29c76-01df-43ce-bcee-47f267f1e3e2",
        "deepnote_cell_type": "markdown"
      }
    },
    {
      "cell_type": "code",
      "metadata": {
        "cell_id": "00013-2ef52bf2-23cb-412b-a526-e4c35d8c5831",
        "deepnote_to_be_reexecuted": false,
        "source_hash": "a4be94b1",
        "execution_start": 1614786294671,
        "execution_millis": 183,
        "deepnote_cell_type": "code"
      },
      "source": "from numpy.random import uniform\nfrom sklearn.linear_model import LinearRegression, Ridge, Lasso\nfrom sklearn.metrics import mean_squared_error\nfrom sklearn.preprocessing import PolynomialFeatures\nfrom sklearn.pipeline import make_pipeline\nfrom sklearn.pipeline import Pipeline\n#import pandas as pd\n#import seaborn as sns\nfrom sklearn.model_selection import GridSearchCV, KFold, cross_val_score, train_test_split\n\nfrom sklearn.preprocessing import StandardScaler\n#from sklearn.linear_model import Ridge\n#from sklearn.linear_model import RidgeCV",
      "execution_count": 31,
      "outputs": []
    },
    {
      "cell_type": "code",
      "metadata": {
        "cell_id": "00014-89289b79-b02b-477a-8c7a-48849f6e1a63",
        "deepnote_to_be_reexecuted": false,
        "source_hash": "39d73c2d",
        "execution_start": 1614786299730,
        "execution_millis": 2,
        "deepnote_cell_type": "code"
      },
      "source": "def get_coefs(m):\n    \"\"\"Returns the model coefficients from a Scikit-learn model object as an array,\n    includes the intercept if available.\n    \"\"\"\n    \n    # If pipeline, use the last step as the model\n    if (isinstance(m, sklearn.pipeline.Pipeline)):\n        m = m.steps[-1][1]\n    \n    \n    if m.intercept_ is None:\n        return m.coef_\n    \n    return np.concatenate([[m.intercept_], m.coef_])\n\ndef model_fit(m, X, y, plot = False):\n    \"\"\"Returns the root mean squared error of a fitted model based on provided X and y values.\n    \n    Args:\n        m: sklearn model object\n        X: model matrix to use for prediction\n        y: outcome vector to use to calculating rmse and residuals\n        plot: boolean value, should fit plots be shown \n    \"\"\"\n    \n    y_hat = m.predict(X)\n    rmse = mean_squared_error(y, y_hat, squared=False)\n    \n    res = pd.DataFrame(\n        data = {'y': y, 'y_hat': y_hat, 'resid': y - y_hat}\n    )\n    \n    if plot:\n        plt.figure(figsize=(12, 6))\n        \n        plt.subplot(121)\n        sns.lineplot(x='y', y='y_hat', color=\"grey\", data =  pd.DataFrame(data={'y': [min(y),max(y)], 'y_hat': [min(y),max(y)]}))\n        sns.scatterplot(x='y', y='y_hat', data=res).set_title(\"Fit plot\")\n        \n        plt.subplot(122)\n        sns.scatterplot(x='y', y='resid', data=res).set_title(\"Residual plot\")\n        \n        plt.subplots_adjust(left=0.0)\n        \n        plt.suptitle(\"Model rmse = \" + str(round(rmse, 4)), fontsize=16)\n        plt.show()\n    \n    return rmse",
      "execution_count": 32,
      "outputs": []
    },
    {
      "cell_type": "code",
      "metadata": {
        "cell_id": "00015-50455f32-7381-4108-9994-b2dcdf3d6142",
        "deepnote_to_be_reexecuted": false,
        "source_hash": "b77a023b",
        "execution_start": 1614786307434,
        "execution_millis": 9,
        "deepnote_cell_type": "code"
      },
      "source": "X = kk.drop('imdb_rating', axis = 1) #full\ny = kk[\"imdb_rating\"]\n\nX_train, X_test, y_train, y_test = train_test_split(X, y, test_size=0.2, random_state=0)\nprint(X_train.shape)\nprint(X_test.shape)\nprint(y_train.shape)",
      "execution_count": 33,
      "outputs": [
        {
          "name": "stdout",
          "text": "(148, 112)\n(38, 112)\n(148,)\n",
          "output_type": "stream"
        }
      ]
    },
    {
      "cell_type": "markdown",
      "source": "## Linear regression",
      "metadata": {
        "cell_id": "00016-35de1ec0-b16f-4f62-95ae-5f9b44f5399e",
        "deepnote_cell_type": "markdown"
      }
    },
    {
      "cell_type": "code",
      "metadata": {
        "cell_id": "00018-e0166028-4b99-4fda-940e-dff76e122752",
        "deepnote_to_be_reexecuted": false,
        "source_hash": "4d954a34",
        "execution_millis": 1,
        "execution_start": 1614787942037,
        "deepnote_cell_type": "code"
      },
      "source": "def run_linear_reg(dataframe):\n\n    X = dataframe.drop('imdb_rating', axis = 1)\n    y = dataframe[\"imdb_rating\"]\n    X_train, X_test, y_train, y_test = train_test_split(X, y, test_size=0.2, random_state=0)\n\n    #lm = LinearRegression().fit(X_train, y_train)\n    #model_fit(lm, X_test, y_test, plot=True)\n    #print(\"number of coefficients:\",len(get_coefs(lm)))\n\n    first = make_pipeline(\n            LinearRegression()\n        )\n\n    parameters = {\"linearregression__fit_intercept\" : [True,False],\n                'linearregression__normalize': [True,False]}\n\n    kf = KFold(n_splits=5, shuffle=True, random_state=0)\n\n    #this is the name you must change for each dataframe\n    first_grid = GridSearchCV(first,parameters,  cv=kf, scoring=\"neg_root_mean_squared_error\").fit(X_train, y_train)\n\n    #==Print the results========\n    print(\"best index: \", first_grid.best_index_) #position of the array of the degree\n    print(\"best param: \", first_grid.best_params_)\n    print(\"best neg_root_mean_squared_error (score): \", first_grid.best_score_ *-1)\n    print(\"number of coefficients:\",len(first_grid.best_estimator_.named_steps['linearregression'].coef_))\n\n    y_hat = first_grid.predict(X_test)\n    model_fit(first_grid, X_test, y_test, plot=True)\n    rmse = mean_squared_error(y_test, y_hat, squared=False)\n    #print(rmse)\n    print(first_grid.best_estimator_.named_steps['linearregression'].coef_)\n    print(\"intercept == \",first_grid.best_estimator_.named_steps['linearregression'].intercept_)\n\n    ",
      "execution_count": 43,
      "outputs": []
    },
    {
      "cell_type": "code",
      "source": "# Run the linear reg for dataframe kk (one with directors missing etc)\nrun_linear_reg(kk)",
      "metadata": {
        "tags": [],
        "cell_id": "00020-aa863fa2-7dd1-44c5-a93a-b83e553d21df",
        "deepnote_to_be_reexecuted": false,
        "source_hash": "87e4e331",
        "execution_start": 1614787958739,
        "execution_millis": 1638,
        "deepnote_cell_type": "code"
      },
      "outputs": [
        {
          "name": "stdout",
          "text": "best index:  1\nbest param:  {'linearregression__fit_intercept': True, 'linearregression__normalize': False}\nbest neg_root_mean_squared_error (score):  0.653295525325692\nnumber of coefficients: 112\n",
          "output_type": "stream"
        },
        {
          "data": {
            "text/plain": "<Figure size 960x480 with 2 Axes>",
            "image/png": "[encoded data removed]"
          },
          "metadata": {
            "needs_background": "light"
          },
          "output_type": "display_data"
        },
        {
          "name": "stdout",
          "text": "[ 3.50934236e-02  6.93717845e-04  2.43710146e-03 -2.03567004e-03\n -1.04823890e-04  6.26836399e-04 -6.37209172e-02  9.68336522e-13\n  5.10553720e-01 -9.40946736e-02  2.88929654e-01  7.89350112e-02\n -5.23985679e-01 -1.40698698e-01 -2.42012390e-01  2.60479363e-01\n  1.87849036e-01  6.42748228e-02  8.51337526e-02  1.78498951e-02\n  2.85966522e-02  1.55070478e-01  1.42334342e-01  1.07975095e-01\n -4.52450241e-02 -5.14279113e-02 -2.24524490e-02 -9.94194644e-01\n  3.49593837e-02  9.21050684e-02 -1.57839393e-01 -4.95434933e-01\n  8.11243789e-02  6.57178550e-02  3.66804311e-01  3.32949270e-02\n  3.53875362e-01 -5.85472703e-01  1.52365798e-02  6.63055200e-02\n -7.09579543e-02 -2.11086816e-01  5.89415519e-01  5.27355937e-15\n  4.76668981e-03 -1.96348379e-01 -5.18603287e-01 -8.60082738e-02\n  7.14831194e-02  2.65451561e-01  3.04106954e-01  1.88705705e-01\n -3.78910829e-01 -2.29724344e-01 -7.31067254e-01 -2.81810125e-01\n -1.56221311e-01  7.90841032e-02  6.22742702e-02  3.52114781e-01\n  7.28413082e-02  1.05391727e-01 -1.78939592e-01 -1.41792073e-01\n -2.92031604e-01  6.08219241e-02  5.55111512e-17  4.14680564e-02\n  2.37607259e-02  9.40025996e-02 -2.51014835e-01  1.59059077e-01\n -5.10553720e-01  1.31462596e-01  9.77179576e-02  2.30020601e-02\n  2.08672893e-01  2.46028024e-01 -1.26764556e-01  2.16252677e-01\n -6.41223632e-02  1.28398961e-01  5.15732509e-01  4.56866006e-01\n  2.22566402e-01  3.39751649e-01  8.74908013e-02  3.36855276e-01\n -3.16394678e-01  2.79673959e-01  2.42426226e-02 -5.55111512e-17\n  8.39278931e-03 -4.85667474e-01 -3.60259214e-01  8.01865817e-01\n -3.43241647e-01 -4.60807790e-01 -1.30960426e-01 -1.14418567e-01\n -6.65717550e-02 -1.67672733e-03 -2.67348891e-01 -2.66020773e-01\n -1.37065036e-01  3.76852101e-01  8.18818274e-02  1.71958797e-01\n  1.07990457e-01 -1.29550660e+00  6.76160422e-01  6.19346182e-01]\nintercept ==  4.843880526794771\n",
          "output_type": "stream"
        }
      ],
      "execution_count": 44
    },
    {
      "cell_type": "markdown",
      "source": "### Linear regression with standarization",
      "metadata": {
        "cell_id": "00019-94cb90ba-f0e0-43eb-a9f7-6323e428e7f3",
        "deepnote_cell_type": "markdown"
      }
    },
    {
      "cell_type": "code",
      "metadata": {
        "cell_id": "00020-ad3692ae-74bc-4912-8072-b979731c96b3",
        "deepnote_to_be_reexecuted": false,
        "source_hash": "b148d4b5",
        "execution_millis": 1178,
        "execution_start": 1614786497513,
        "deepnote_cell_type": "code"
      },
      "source": "first_2 = make_pipeline(\n         StandardScaler(),\n        LinearRegression()\n    )\n\nparameters = {\"linearregression__fit_intercept\" : [True,False],\n             'linearregression__normalize': [True,False]}\n\nkf = KFold(n_splits=5, shuffle=True, random_state=0)\nfirst2_grid = GridSearchCV(first_2,parameters,  cv=kf, scoring=\"neg_root_mean_squared_error\").fit(X_train, y_train)\n\n\nprint(\"best index: \", first2_grid.best_index_) #position of the array of the degree\nprint(\"best param: \", first2_grid.best_params_)\nprint(\"best score: \", first2_grid.best_score_ *-1)\nprint(\"number of coefficients:\",len(first2_grid.best_estimator_.named_steps['linearregression'].coef_))\n\ny_hat = first2_grid.predict(X_test)\nmodel_fit(first2_grid, X_test, y_test, plot=True) #compute over test\nrmse = mean_squared_error(y_test, y_hat, squared=False)\n#print(rmse)\nprint(first2_grid.best_estimator_.named_steps['linearregression'].coef_)\nprint(\"intercept == \",first2_grid.best_estimator_.named_steps['linearregression'].intercept_)\n\nres = pd.DataFrame(\n        data = {'y': y_test, 'y_hat': y_hat, 'resid': round(y_test - y_hat,1)}\n    )\n\nres",
      "execution_count": 37,
      "outputs": [
        {
          "name": "stdout",
          "text": "best index:  1\nbest param:  {'linearregression__fit_intercept': True, 'linearregression__normalize': False}\nbest score:  551377138354.411\nnumber of coefficients: 112\n",
          "output_type": "stream"
        },
        {
          "data": {
            "text/plain": "<Figure size 960x480 with 2 Axes>",
            "image/png": "[encoded data removed]"
          },
          "metadata": {
            "needs_background": "light"
          },
          "output_type": "display_data"
        },
        {
          "name": "stdout",
          "text": "[ 2.52742429e-01  4.43588185e-01  1.98091777e-01 -4.71690018e-02\n -8.29884959e-02  2.60134697e-03 -1.81688889e-02 -1.41714531e+11\n  4.45345875e+11 -1.87401852e-02  1.26356249e-01  2.63137990e-02\n -7.37977881e-02 -4.25782118e-02 -1.05840667e-01  7.62597960e-02\n  7.98638443e-02  3.16278614e-02  3.94868270e-02  8.22368584e-03\n  1.33413740e-02  6.59723152e-02  7.17069014e-02  1.52440850e-02\n -7.13270763e-03 -6.02315647e-03 -3.96271670e-03 -8.11064844e-02\n  8.20133944e-03  1.06336467e-02 -1.29331320e-02 -4.02758119e-02\n  2.24785092e-02  7.72857666e-03  2.99758911e-02  7.88879395e-03\n  4.12750244e-02 -4.80270386e-02  1.12152100e-03  7.57026672e-03\n -1.78909302e-02 -4.78286743e-02  1.06525421e-01 -4.48556691e+08\n  1.38854980e-03 -3.53698730e-02 -7.31502771e-02 -2.54821777e-02\n  8.39233398e-03  3.73535156e-02  4.29382324e-02  2.64205933e-02\n -4.34913635e-02  1.51490337e+11  1.18161648e+11  9.68106946e+10\n  9.68106946e+10  2.19932057e+11  2.00382857e+11  9.68106946e+10\n  6.86895352e+10  1.18161648e+11  1.51490337e+11  9.68106946e+10\n  6.86895352e+10  1.35970017e+11 -1.11185530e+04  1.77987903e+11\n  9.68106946e+10  1.35970017e+11  6.86895352e+10  1.18161648e+11\n  5.14035410e+11  1.65368089e+11  6.86895352e+10  9.68106946e+10\n  9.68106946e+10  9.68106946e+10  6.86895352e+10  1.77987903e+11\n  6.86895352e+10  1.35970017e+11  6.86895352e+10  9.68106946e+10\n  1.65368089e+11  6.86895352e+10  2.53048263e+11  9.68106946e+10\n  9.68106946e+10  2.19932057e+11  6.86895352e+10  3.28058243e-01\n  6.86895352e+10  6.86895352e+10  1.18161648e+11  6.86895352e+10\n  9.68106946e+10  6.86895352e+10  6.86895352e+10  1.18161648e+11\n  5.90433342e+11  6.54441875e+11  5.90433342e+11  6.54441875e+11\n  6.07500139e+11  5.34022434e+11  6.95978842e+11  6.95978842e+11\n  4.42393193e+11  2.03341640e+11  7.02596876e+11  6.77528754e+11]\nintercept ==  8.260006446860412\n",
          "output_type": "stream"
        },
        {
          "output_type": "execute_result",
          "execution_count": 37,
          "data": {
            "application/vnd.deepnote.dataframe.v2+json": {
              "row_count": 38,
              "column_count": 3,
              "columns": [
                {
                  "name": "y",
                  "dtype": "float64",
                  "stats": {
                    "unique_count": 18,
                    "nan_count": 0,
                    "min": 7.1,
                    "max": 9.7,
                    "histogram": [
                      {
                        "bin_start": 7.1,
                        "bin_end": 7.359999999999999,
                        "count": 3
                      },
                      {
                        "bin_start": 7.359999999999999,
                        "bin_end": 7.619999999999999,
                        "count": 2
                      },
                      {
                        "bin_start": 7.619999999999999,
                        "bin_end": 7.879999999999999,
                        "count": 5
                      },
                      {
                        "bin_start": 7.879999999999999,
                        "bin_end": 8.139999999999999,
                        "count": 7
                      },
                      {
                        "bin_start": 8.139999999999999,
                        "bin_end": 8.399999999999999,
                        "count": 5
                      },
                      {
                        "bin_start": 8.399999999999999,
                        "bin_end": 8.66,
                        "count": 8
                      },
                      {
                        "bin_start": 8.66,
                        "bin_end": 8.92,
                        "count": 6
                      },
                      {
                        "bin_start": 8.92,
                        "bin_end": 9.18,
                        "count": 0
                      },
                      {
                        "bin_start": 9.18,
                        "bin_end": 9.44,
                        "count": 0
                      },
                      {
                        "bin_start": 9.44,
                        "bin_end": 9.7,
                        "count": 2
                      }
                    ]
                  }
                },
                {
                  "name": "y_hat",
                  "dtype": "float64",
                  "stats": {
                    "unique_count": 38,
                    "nan_count": 0,
                    "min": -838481782827.3699,
                    "max": 12.969138848122949,
                    "histogram": [
                      {
                        "bin_start": -838481782827.3699,
                        "bin_end": -754633604543.3359,
                        "count": 2
                      },
                      {
                        "bin_start": -754633604543.3359,
                        "bin_end": -670785426259.302,
                        "count": 0
                      },
                      {
                        "bin_start": -670785426259.302,
                        "bin_end": -586937247975.2682,
                        "count": 0
                      },
                      {
                        "bin_start": -586937247975.2682,
                        "bin_end": -503089069691.23425,
                        "count": 0
                      },
                      {
                        "bin_start": -503089069691.23425,
                        "bin_end": -419240891407.2003,
                        "count": 0
                      },
                      {
                        "bin_start": -419240891407.2003,
                        "bin_end": -335392713123.16644,
                        "count": 0
                      },
                      {
                        "bin_start": -335392713123.16644,
                        "bin_end": -251544534839.13257,
                        "count": 0
                      },
                      {
                        "bin_start": -251544534839.13257,
                        "bin_end": -167696356555.09863,
                        "count": 0
                      },
                      {
                        "bin_start": -167696356555.09863,
                        "bin_end": -83848178271.0647,
                        "count": 0
                      },
                      {
                        "bin_start": -83848178271.0647,
                        "bin_end": 12.969138848122949,
                        "count": 36
                      }
                    ]
                  }
                },
                {
                  "name": "resid",
                  "dtype": "float64",
                  "stats": {
                    "unique_count": 22,
                    "nan_count": 0,
                    "min": -3.3,
                    "max": 838481782835.8,
                    "histogram": [
                      {
                        "bin_start": -3.3,
                        "bin_end": 83848178280.61,
                        "count": 36
                      },
                      {
                        "bin_start": 83848178280.61,
                        "bin_end": 167696356564.52002,
                        "count": 0
                      },
                      {
                        "bin_start": 167696356564.52002,
                        "bin_end": 251544534848.43002,
                        "count": 0
                      },
                      {
                        "bin_start": 251544534848.43002,
                        "bin_end": 335392713132.34,
                        "count": 0
                      },
                      {
                        "bin_start": 335392713132.34,
                        "bin_end": 419240891416.25006,
                        "count": 0
                      },
                      {
                        "bin_start": 419240891416.25006,
                        "bin_end": 503089069700.16003,
                        "count": 0
                      },
                      {
                        "bin_start": 503089069700.16003,
                        "bin_end": 586937247984.07,
                        "count": 0
                      },
                      {
                        "bin_start": 586937247984.07,
                        "bin_end": 670785426267.98,
                        "count": 0
                      },
                      {
                        "bin_start": 670785426267.98,
                        "bin_end": 754633604551.89,
                        "count": 0
                      },
                      {
                        "bin_start": 754633604551.89,
                        "bin_end": 838481782835.8,
                        "count": 2
                      }
                    ]
                  }
                },
                {
                  "name": "_deepnote_index_column",
                  "dtype": "int64"
                }
              ],
              "rows_top": [
                {
                  "y": 8.4,
                  "y_hat": -838481782827.3699,
                  "resid": 838481782835.8,
                  "_deepnote_index_column": 106
                },
                {
                  "y": 8.9,
                  "y_hat": 8.884167213461975,
                  "resid": 0,
                  "_deepnote_index_column": 45
                },
                {
                  "y": 7.2,
                  "y_hat": 6.568615455649475,
                  "resid": 0.6,
                  "_deepnote_index_column": 158
                },
                {
                  "y": 7.9,
                  "y_hat": 8.320080299399475,
                  "resid": -0.4,
                  "_deepnote_index_column": 63
                },
                {
                  "y": 9.7,
                  "y_hat": 11.042858619711975,
                  "resid": -1.3,
                  "_deepnote_index_column": 135
                },
                {
                  "y": 8.3,
                  "y_hat": 8.630627174399475,
                  "resid": -0.3,
                  "_deepnote_index_column": 66
                },
                {
                  "y": 8.3,
                  "y_hat": 8.360119361899475,
                  "resid": -0.1,
                  "_deepnote_index_column": 18
                },
                {
                  "y": 8.6,
                  "y_hat": 9.157604713461975,
                  "resid": -0.6,
                  "_deepnote_index_column": 109
                },
                {
                  "y": 7.3,
                  "y_hat": 6.535046119711975,
                  "resid": 0.8,
                  "_deepnote_index_column": 141
                },
                {
                  "y": 8.2,
                  "y_hat": 8.290798683188537,
                  "resid": -0.1,
                  "_deepnote_index_column": 7
                },
                {
                  "y": 7.8,
                  "y_hat": 8.206326026938537,
                  "resid": -0.4,
                  "_deepnote_index_column": 5
                },
                {
                  "y": 7.8,
                  "y_hat": 8.523571510336975,
                  "resid": -0.7,
                  "_deepnote_index_column": 162
                },
                {
                  "y": 7.9,
                  "y_hat": 8.549938697836975,
                  "resid": -0.6,
                  "_deepnote_index_column": 153
                },
                {
                  "y": 7.6,
                  "y_hat": 6.905285377524475,
                  "resid": 0.7,
                  "_deepnote_index_column": 176
                },
                {
                  "y": 7.9,
                  "y_hat": 8.008312721274475,
                  "resid": -0.1,
                  "_deepnote_index_column": 118
                },
                {
                  "y": 8.2,
                  "y_hat": 8.043102760336975,
                  "resid": 0.2,
                  "_deepnote_index_column": 97
                },
                {
                  "y": 8.7,
                  "y_hat": 8.960934181235412,
                  "resid": -0.3,
                  "_deepnote_index_column": 37
                },
                {
                  "y": 8,
                  "y_hat": 8.406750221274475,
                  "resid": -0.4,
                  "_deepnote_index_column": 93
                },
                {
                  "y": 8.9,
                  "y_hat": -448556682.1779666,
                  "resid": 448556691.1,
                  "_deepnote_index_column": 134
                },
                {
                  "y": 8.3,
                  "y_hat": 8.052746315024475,
                  "resid": 0.2,
                  "_deepnote_index_column": 126
                },
                {
                  "y": 8.8,
                  "y_hat": 8.733654518149475,
                  "resid": 0.1,
                  "_deepnote_index_column": 55
                },
                {
                  "y": 8.4,
                  "y_hat": 8.003918190024475,
                  "resid": 0.4,
                  "_deepnote_index_column": 83
                },
                {
                  "y": 8.5,
                  "y_hat": 8.580700416586975,
                  "resid": -0.1,
                  "_deepnote_index_column": 56
                },
                {
                  "y": 7.9,
                  "y_hat": 7.672253150961975,
                  "resid": 0.2,
                  "_deepnote_index_column": 149
                },
                {
                  "y": 7.1,
                  "y_hat": 6.514416236899475,
                  "resid": 0.6,
                  "_deepnote_index_column": 167
                },
                {
                  "y": 7.7,
                  "y_hat": 7.906261940024475,
                  "resid": -0.2,
                  "_deepnote_index_column": 163
                },
                {
                  "y": 8.4,
                  "y_hat": 8.672115821860412,
                  "resid": -0.3,
                  "_deepnote_index_column": 74
                },
                {
                  "y": 8,
                  "y_hat": -448556682.3177371,
                  "resid": 448556690.3,
                  "_deepnote_index_column": 111
                },
                {
                  "y": 8.4,
                  "y_hat": 7.342525978110412,
                  "resid": 1.1,
                  "_deepnote_index_column": 171
                },
                {
                  "y": 8,
                  "y_hat": 8.371838111899475,
                  "resid": -0.4,
                  "_deepnote_index_column": 33
                },
                {
                  "y": 8.4,
                  "y_hat": 8.061794776938537,
                  "resid": 0.3,
                  "_deepnote_index_column": 4
                },
                {
                  "y": 7.5,
                  "y_hat": -838481771709.1067,
                  "resid": 838481771716.6,
                  "_deepnote_index_column": 121
                },
                {
                  "y": 7.8,
                  "y_hat": 6.679821510336975,
                  "resid": 1.1,
                  "_deepnote_index_column": 168
                },
                {
                  "y": 8.7,
                  "y_hat": 8.150890846274475,
                  "resid": 0.5,
                  "_deepnote_index_column": 61
                },
                {
                  "y": 8.5,
                  "y_hat": 8.573742408774475,
                  "resid": -0.1,
                  "_deepnote_index_column": 44
                },
                {
                  "y": 8.7,
                  "y_hat": 8.571789283774475,
                  "resid": 0.1,
                  "_deepnote_index_column": 26
                },
                {
                  "y": 9.7,
                  "y_hat": 12.969138848122949,
                  "resid": -3.3,
                  "_deepnote_index_column": 185
                },
                {
                  "y": 7.7,
                  "y_hat": 8.056297051247949,
                  "resid": -0.4,
                  "_deepnote_index_column": 136
                }
              ],
              "rows_bottom": null
            },
            "text/plain": "       y         y_hat         resid\n106  8.4 -8.384818e+11  8.384818e+11\n45   8.9  8.884167e+00  0.000000e+00\n158  7.2  6.568615e+00  6.000000e-01\n63   7.9  8.320080e+00 -4.000000e-01\n135  9.7  1.104286e+01 -1.300000e+00\n66   8.3  8.630627e+00 -3.000000e-01\n18   8.3  8.360119e+00 -1.000000e-01\n109  8.6  9.157605e+00 -6.000000e-01\n141  7.3  6.535046e+00  8.000000e-01\n7    8.2  8.290799e+00 -1.000000e-01\n5    7.8  8.206326e+00 -4.000000e-01\n162  7.8  8.523572e+00 -7.000000e-01\n153  7.9  8.549939e+00 -6.000000e-01\n176  7.6  6.905285e+00  7.000000e-01\n118  7.9  8.008313e+00 -1.000000e-01\n97   8.2  8.043103e+00  2.000000e-01\n37   8.7  8.960934e+00 -3.000000e-01\n93   8.0  8.406750e+00 -4.000000e-01\n134  8.9 -4.485567e+08  4.485567e+08\n126  8.3  8.052746e+00  2.000000e-01\n55   8.8  8.733655e+00  1.000000e-01\n83   8.4  8.003918e+00  4.000000e-01\n56   8.5  8.580700e+00 -1.000000e-01\n149  7.9  7.672253e+00  2.000000e-01\n167  7.1  6.514416e+00  6.000000e-01\n163  7.7  7.906262e+00 -2.000000e-01\n74   8.4  8.672116e+00 -3.000000e-01\n111  8.0 -4.485567e+08  4.485567e+08\n171  8.4  7.342526e+00  1.100000e+00\n33   8.0  8.371838e+00 -4.000000e-01\n4    8.4  8.061795e+00  3.000000e-01\n121  7.5 -8.384818e+11  8.384818e+11\n168  7.8  6.679822e+00  1.100000e+00\n61   8.7  8.150891e+00  5.000000e-01\n44   8.5  8.573742e+00 -1.000000e-01\n26   8.7  8.571789e+00  1.000000e-01\n185  9.7  1.296914e+01 -3.300000e+00\n136  7.7  8.056297e+00 -4.000000e-01",
            "text/html": "<div>\n<style scoped>\n    .dataframe tbody tr th:only-of-type {\n        vertical-align: middle;\n    }\n\n    .dataframe tbody tr th {\n        vertical-align: top;\n    }\n\n    .dataframe thead th {\n        text-align: right;\n    }\n</style>\n<table border=\"1\" class=\"dataframe\">\n  <thead>\n    <tr style=\"text-align: right;\">\n      <th></th>\n      <th>y</th>\n      <th>y_hat</th>\n      <th>resid</th>\n    </tr>\n  </thead>\n  <tbody>\n    <tr>\n      <th>106</th>\n      <td>8.4</td>\n      <td>-8.384818e+11</td>\n      <td>8.384818e+11</td>\n    </tr>\n    <tr>\n      <th>45</th>\n      <td>8.9</td>\n      <td>8.884167e+00</td>\n      <td>0.000000e+00</td>\n    </tr>\n    <tr>\n      <th>158</th>\n      <td>7.2</td>\n      <td>6.568615e+00</td>\n      <td>6.000000e-01</td>\n    </tr>\n    <tr>\n      <th>63</th>\n      <td>7.9</td>\n      <td>8.320080e+00</td>\n      <td>-4.000000e-01</td>\n    </tr>\n    <tr>\n      <th>135</th>\n      <td>9.7</td>\n      <td>1.104286e+01</td>\n      <td>-1.300000e+00</td>\n    </tr>\n    <tr>\n      <th>66</th>\n      <td>8.3</td>\n      <td>8.630627e+00</td>\n      <td>-3.000000e-01</td>\n    </tr>\n    <tr>\n      <th>18</th>\n      <td>8.3</td>\n      <td>8.360119e+00</td>\n      <td>-1.000000e-01</td>\n    </tr>\n    <tr>\n      <th>109</th>\n      <td>8.6</td>\n      <td>9.157605e+00</td>\n      <td>-6.000000e-01</td>\n    </tr>\n    <tr>\n      <th>141</th>\n      <td>7.3</td>\n      <td>6.535046e+00</td>\n      <td>8.000000e-01</td>\n    </tr>\n    <tr>\n      <th>7</th>\n      <td>8.2</td>\n      <td>8.290799e+00</td>\n      <td>-1.000000e-01</td>\n    </tr>\n    <tr>\n      <th>5</th>\n      <td>7.8</td>\n      <td>8.206326e+00</td>\n      <td>-4.000000e-01</td>\n    </tr>\n    <tr>\n      <th>162</th>\n      <td>7.8</td>\n      <td>8.523572e+00</td>\n      <td>-7.000000e-01</td>\n    </tr>\n    <tr>\n      <th>153</th>\n      <td>7.9</td>\n      <td>8.549939e+00</td>\n      <td>-6.000000e-01</td>\n    </tr>\n    <tr>\n      <th>176</th>\n      <td>7.6</td>\n      <td>6.905285e+00</td>\n      <td>7.000000e-01</td>\n    </tr>\n    <tr>\n      <th>118</th>\n      <td>7.9</td>\n      <td>8.008313e+00</td>\n      <td>-1.000000e-01</td>\n    </tr>\n    <tr>\n      <th>97</th>\n      <td>8.2</td>\n      <td>8.043103e+00</td>\n      <td>2.000000e-01</td>\n    </tr>\n    <tr>\n      <th>37</th>\n      <td>8.7</td>\n      <td>8.960934e+00</td>\n      <td>-3.000000e-01</td>\n    </tr>\n    <tr>\n      <th>93</th>\n      <td>8.0</td>\n      <td>8.406750e+00</td>\n      <td>-4.000000e-01</td>\n    </tr>\n    <tr>\n      <th>134</th>\n      <td>8.9</td>\n      <td>-4.485567e+08</td>\n      <td>4.485567e+08</td>\n    </tr>\n    <tr>\n      <th>126</th>\n      <td>8.3</td>\n      <td>8.052746e+00</td>\n      <td>2.000000e-01</td>\n    </tr>\n    <tr>\n      <th>55</th>\n      <td>8.8</td>\n      <td>8.733655e+00</td>\n      <td>1.000000e-01</td>\n    </tr>\n    <tr>\n      <th>83</th>\n      <td>8.4</td>\n      <td>8.003918e+00</td>\n      <td>4.000000e-01</td>\n    </tr>\n    <tr>\n      <th>56</th>\n      <td>8.5</td>\n      <td>8.580700e+00</td>\n      <td>-1.000000e-01</td>\n    </tr>\n    <tr>\n      <th>149</th>\n      <td>7.9</td>\n      <td>7.672253e+00</td>\n      <td>2.000000e-01</td>\n    </tr>\n    <tr>\n      <th>167</th>\n      <td>7.1</td>\n      <td>6.514416e+00</td>\n      <td>6.000000e-01</td>\n    </tr>\n    <tr>\n      <th>163</th>\n      <td>7.7</td>\n      <td>7.906262e+00</td>\n      <td>-2.000000e-01</td>\n    </tr>\n    <tr>\n      <th>74</th>\n      <td>8.4</td>\n      <td>8.672116e+00</td>\n      <td>-3.000000e-01</td>\n    </tr>\n    <tr>\n      <th>111</th>\n      <td>8.0</td>\n      <td>-4.485567e+08</td>\n      <td>4.485567e+08</td>\n    </tr>\n    <tr>\n      <th>171</th>\n      <td>8.4</td>\n      <td>7.342526e+00</td>\n      <td>1.100000e+00</td>\n    </tr>\n    <tr>\n      <th>33</th>\n      <td>8.0</td>\n      <td>8.371838e+00</td>\n      <td>-4.000000e-01</td>\n    </tr>\n    <tr>\n      <th>4</th>\n      <td>8.4</td>\n      <td>8.061795e+00</td>\n      <td>3.000000e-01</td>\n    </tr>\n    <tr>\n      <th>121</th>\n      <td>7.5</td>\n      <td>-8.384818e+11</td>\n      <td>8.384818e+11</td>\n    </tr>\n    <tr>\n      <th>168</th>\n      <td>7.8</td>\n      <td>6.679822e+00</td>\n      <td>1.100000e+00</td>\n    </tr>\n    <tr>\n      <th>61</th>\n      <td>8.7</td>\n      <td>8.150891e+00</td>\n      <td>5.000000e-01</td>\n    </tr>\n    <tr>\n      <th>44</th>\n      <td>8.5</td>\n      <td>8.573742e+00</td>\n      <td>-1.000000e-01</td>\n    </tr>\n    <tr>\n      <th>26</th>\n      <td>8.7</td>\n      <td>8.571789e+00</td>\n      <td>1.000000e-01</td>\n    </tr>\n    <tr>\n      <th>185</th>\n      <td>9.7</td>\n      <td>1.296914e+01</td>\n      <td>-3.300000e+00</td>\n    </tr>\n    <tr>\n      <th>136</th>\n      <td>7.7</td>\n      <td>8.056297e+00</td>\n      <td>-4.000000e-01</td>\n    </tr>\n  </tbody>\n</table>\n</div>"
          },
          "metadata": {}
        }
      ]
    },
    {
      "cell_type": "markdown",
      "source": "## Polynomial regression",
      "metadata": {
        "cell_id": "00021-d1258a91-a71d-4b42-a525-dd35eaa0f4a6",
        "deepnote_cell_type": "markdown"
      }
    },
    {
      "cell_type": "code",
      "metadata": {
        "cell_id": "00022-339927eb-9a36-4e40-b94c-7f8446040cb1",
        "deepnote_to_be_reexecuted": false,
        "source_hash": "502c07ee",
        "execution_start": 1614786501605,
        "execution_millis": 8861,
        "deepnote_cell_type": "code"
      },
      "source": "second = make_pipeline(\n        PolynomialFeatures(),\n        LinearRegression()\n    )\n\nparameters = {\n    'polynomialfeatures__degree': np.arange(1,3,1),\n    \"linearregression__fit_intercept\" : [True,False],\n    'linearregression__normalize': [True,False]\n}\n\nkf = KFold(n_splits=5, shuffle=True, random_state=0)\n\nsecond_grid = GridSearchCV(second, parameters, cv=kf, scoring=\"neg_root_mean_squared_error\").fit(X_train, y_train)\nprint(\"best index: \", second_grid.best_index_) #position of the array of the degree\nprint(\"best param: \", second_grid.best_params_)\nprint(\"best score: \", second_grid.best_score_ *-1)\nprint(\"number of coefficients:\",len(second_grid.best_estimator_.named_steps['linearregression'].coef_))\n\ny_hat = second_grid.predict(X_test)\nmodel_fit(second_grid, X_test, y_test, plot=True)\nrmse = mean_squared_error(y_test, y_hat, squared=False)\n#print(rmse)\nprint(second_grid.best_estimator_.named_steps['linearregression'].coef_)\nprint(\"intercept == \",second_grid.best_estimator_.named_steps['linearregression'].intercept_)",
      "execution_count": 38,
      "outputs": [
        {
          "name": "stdout",
          "text": "best index:  1\nbest param:  {'linearregression__fit_intercept': True, 'linearregression__normalize': True, 'polynomialfeatures__degree': 2}\nbest score:  0.4530011493465141\nnumber of coefficients: 6441\n",
          "output_type": "stream"
        },
        {
          "data": {
            "text/plain": "<Figure size 960x480 with 2 Axes>",
            "image/png": "[encoded data removed]"
          },
          "metadata": {
            "needs_background": "light"
          },
          "output_type": "display_data"
        },
        {
          "name": "stdout",
          "text": "[-7.94757572e-02 -5.16257766e-04  2.24206591e-05 ... -1.15113443e-04\n  0.00000000e+00 -5.00600769e-04]\nintercept ==  7.43672715130633\n",
          "output_type": "stream"
        }
      ]
    },
    {
      "cell_type": "code",
      "metadata": {
        "cell_id": "00023-d67c1ff0-0093-4753-8701-3684ccfc4fe8",
        "deepnote_to_be_reexecuted": false,
        "source_hash": "502c07ee",
        "execution_start": 1614786512193,
        "execution_millis": 9389,
        "deepnote_cell_type": "code"
      },
      "source": "second = make_pipeline(\n        PolynomialFeatures(),\n        LinearRegression()\n    )\n\nparameters = {\n    'polynomialfeatures__degree': np.arange(1,3,1),\n    \"linearregression__fit_intercept\" : [True,False],\n    'linearregression__normalize': [True,False]\n}\n\nkf = KFold(n_splits=5, shuffle=True, random_state=0)\n\nsecond_grid = GridSearchCV(second, parameters, cv=kf, scoring=\"neg_root_mean_squared_error\").fit(X_train, y_train)\nprint(\"best index: \", second_grid.best_index_) #position of the array of the degree\nprint(\"best param: \", second_grid.best_params_)\nprint(\"best score: \", second_grid.best_score_ *-1)\nprint(\"number of coefficients:\",len(second_grid.best_estimator_.named_steps['linearregression'].coef_))\n\ny_hat = second_grid.predict(X_test)\nmodel_fit(second_grid, X_test, y_test, plot=True)\nrmse = mean_squared_error(y_test, y_hat, squared=False)\n#print(rmse)\nprint(second_grid.best_estimator_.named_steps['linearregression'].coef_)\nprint(\"intercept == \",second_grid.best_estimator_.named_steps['linearregression'].intercept_)",
      "execution_count": 39,
      "outputs": [
        {
          "name": "stdout",
          "text": "best index:  1\nbest param:  {'linearregression__fit_intercept': True, 'linearregression__normalize': True, 'polynomialfeatures__degree': 2}\nbest score:  0.4530011493465141\nnumber of coefficients: 6441\n",
          "output_type": "stream"
        },
        {
          "data": {
            "text/plain": "<Figure size 960x480 with 2 Axes>",
            "image/png": "[encoded data removed]"
          },
          "metadata": {
            "needs_background": "light"
          },
          "output_type": "display_data"
        },
        {
          "name": "stdout",
          "text": "[-7.94757572e-02 -5.16257766e-04  2.24206591e-05 ... -1.15113443e-04\n  0.00000000e+00 -5.00600769e-04]\nintercept ==  7.43672715130633\n",
          "output_type": "stream"
        }
      ]
    },
    {
      "cell_type": "markdown",
      "source": "## Lasso ",
      "metadata": {
        "cell_id": "00024-46af7a32-1a1d-4781-9c26-dae7b27a829e",
        "deepnote_cell_type": "markdown"
      }
    },
    {
      "cell_type": "code",
      "metadata": {
        "cell_id": "00025-5439dad2-54eb-4084-9f1f-2fa788377e24",
        "deepnote_cell_type": "code"
      },
      "source": "lasso_pipe = make_pipeline(\n        StandardScaler(),\n        PolynomialFeatures(),\n        Lasso()\n        )\nlasso_pipe.get_params()\n\nthird_grid.get_params()\nthird_grid.best_estimator_.get_params#named_steps['PolynomialFeatures'].coef_\nthird_grid.best_estimator_.named_steps.",
      "execution_count": 196,
      "outputs": [
        {
          "data": {
            "text/plain": "PolynomialFeatures(degree=1)"
          },
          "execution_count": 196,
          "metadata": {},
          "output_type": "execute_result"
        }
      ]
    },
    {
      "cell_type": "code",
      "metadata": {
        "cell_id": "00026-57df9c6c-565e-4a45-b9c7-b2513999b57e",
        "deepnote_cell_type": "code"
      },
      "source": "alpha_list = np.linspace(0.1, 15, num=150)\n\nthird = make_pipeline(\n        StandardScaler(),\n        PolynomialFeatures(),\n        Lasso()\n        \n    )\n\nparameters = {\n    'polynomialfeatures__degree': np.arange(1,3,1),\n     'lasso__alpha': alpha_list,\n     'polynomialfeatures__include_bias': [True,False]\n}\n\nkf = KFold(n_splits=5, shuffle=True, random_state=0)\n\nthird_grid = GridSearchCV(third, parameters, cv=kf, scoring=\"neg_root_mean_squared_error\").fit(X_train, y_train)\nprint(\"best index: \", third_grid.best_index_) #position of the array of the degree\nprint(\"best param: \", third_grid.best_params_)\nprint(\"best score: \", third_grid.best_score_ *-1)\nprint(\"number of coefficients:\",len(third_grid.best_estimator_.named_steps[\"lasso\"].coef_))\n\n\ny_hat = third_grid.predict(X_test)\nmodel_fit(third_grid, X_test, y_test, plot=True)\nrmse = mean_squared_error(y_test, y_hat, squared=False)\nprint(rmse)\nprint(\"coefficients == \", third_grid.best_estimator_.named_steps[\"lasso\"].coef_)\nprint(\"intercept == \", third_grid.best_estimator_.named_steps[\"lasso\"].intercept_)\n\n\n# step2: initialize the model\n#gcv_lasso = GridSearchCV(third, params,cv = kf, scoring= \"neg_mean_absolute_error\")\n# step 3: train the model\n#gcv_.fit(X_train, y_train)",
      "execution_count": 201,
      "outputs": [
        {
          "name": "stdout",
          "output_type": "stream",
          "text": "best index:  0\nbest param:  {'lasso__alpha': 0.1, 'polynomialfeatures__degree': 1, 'polynomialfeatures__include_bias': True}\nbest score:  0.39071637106401724\n"
        },
        {
          "data": {
            "image/png": "[encoded data removed]",
            "text/plain": "<Figure size 960x480 with 2 Axes>"
          },
          "metadata": {
            "needs_background": "light"
          },
          "output_type": "display_data"
        }
      ]
    },
    {
      "cell_type": "markdown",
      "source": "## Ridge",
      "metadata": {
        "cell_id": "00027-b9a3403b-ecc9-4eaf-b7a3-d2d64350420c",
        "deepnote_cell_type": "markdown"
      }
    },
    {
      "cell_type": "code",
      "metadata": {
        "cell_id": "00028-da83ad6d-17fc-49dc-ba1a-3dbb973ef878",
        "deepnote_cell_type": "code"
      },
      "source": "alpha_list = np.logspace(-2, 3, num=200)\n\n\nfourth = make_pipeline(\n        StandardScaler(),\n        PolynomialFeatures(),\n        Ridge()   \n    )\n\nparameters = {\n    'polynomialfeatures__degree': np.arange(1,3,1),\n     'ridge__alpha': alpha_list,\n     'polynomialfeatures__include_bias': [True,False]\n}\n\nkf = KFold(n_splits=5, shuffle=True, random_state=0)\n\nfourth_grid = GridSearchCV(fourth, parameters, cv=kf, scoring=\"neg_root_mean_squared_error\").fit(X_train, y_train)\nprint(\"best index: \", fourth_grid.best_index_) #position of the array of the degree\nprint(\"best param: \", fourth_grid.best_params_)\nprint(\"best score: \", fourth_grid.best_score_ *-1)\nprint(\"number of coefficients:\",len(fourth_grid.best_estimator_.named_steps[\"ridge\"].coef_))\n\ny_hat = fourth_grid.predict(X_test)\nmodel_fit(fourth_grid, X_test, y_test, plot=True)\nrmse = mean_squared_error(y_test, y_hat, squared=False)\nprint(rmse)\nprint(\"coefficients == \", fourth_grid.best_estimator_.named_steps[\"ridge\"].coef_)\nprint(\"intercept == \", fourth_grid.best_estimator_.named_steps[\"ridge\"].intercept_)\n\n",
      "execution_count": 14,
      "outputs": [
        {
          "name": "stdout",
          "output_type": "stream",
          "text": "best index:  356\nbest param:  {'polynomialfeatures__degree': 1, 'polynomialfeatures__include_bias': False, 'ridge__alpha': 83.09941949353396}\nbest score:  0.4122900680007543\nnumber of coefficients: 112\n"
        },
        {
          "data": {
            "image/png": "[encoded data removed]",
            "text/plain": "<Figure size 960x480 with 2 Axes>"
          },
          "metadata": {
            "needs_background": "light"
          },
          "output_type": "display_data"
        },
        {
          "name": "stdout",
          "output_type": "stream",
          "text": "0.35234154860857775\ncoefficients ==  [ 0.03321482  0.13152318  0.05996561  0.01083037  0.03621697  0.02149541\n -0.02147747  0.          0.03953578 -0.02140062  0.05928995 -0.01283118\n  0.00317039 -0.01476346 -0.01144756  0.01720324  0.03286923  0.00486066\n  0.00048433 -0.01857791  0.00796056  0.00863535 -0.03345047 -0.00340259\n -0.00896639  0.00964948  0.01486085 -0.05321682 -0.01446303  0.01618641\n -0.00886842 -0.00557156  0.03903766  0.02268864  0.01841584 -0.01035446\n  0.00425099 -0.0175374   0.0191691   0.01815739  0.0029978  -0.0212757\n -0.00700399  0.          0.01956298 -0.01312177 -0.04531363 -0.01307543\n -0.0136305   0.03947759  0.00288577  0.03324571 -0.01933051 -0.03545985\n -0.04528353 -0.02860671  0.00149906  0.00930177  0.01488607  0.014988\n  0.00596483 -0.01210226 -0.00888457 -0.00933759  0.00308106  0.00586164\n  0.          0.00681493 -0.00157473  0.01140739  0.01881374 -0.00065233\n -0.03953578 -0.00162804  0.01019668  0.02458725  0.01772324 -0.00563792\n -0.01473297  0.01829561 -0.00567452  0.00740563  0.02247435  0.01816077\n -0.00076047  0.00462365  0.00732293  0.01944631 -0.02674827  0.0098263\n  0.01399144  0.          0.00330232 -0.03790149 -0.02644557  0.02206089\n  0.00897802 -0.02681453  0.00053034 -0.01409128  0.00023095 -0.00640426\n -0.03163509 -0.01111417  0.0497456   0.02619801 -0.01968082 -0.01674129\n  0.02519271  0.01452018  0.00264094 -0.00709649]\nintercept ==  8.260135135135137\n"
        }
      ]
    },
    {
      "cell_type": "markdown",
      "source": "# Dont run the cells below \nI commented them out to stop this happening :D so we can press run and it will be ok",
      "metadata": {
        "cell_id": "00029-504ab562-4e4e-4b05-9706-b78a733130a6",
        "deepnote_cell_type": "markdown"
      }
    },
    {
      "cell_type": "code",
      "metadata": {
        "cell_id": "00030-5ffb3e83-2852-4021-ae81-850859344472",
        "deepnote_cell_type": "code"
      },
      "source": "# m2 = make_pipeline(\n#     make_column_transformer(),\n#     LinearRegression(fit_intercept=True)\n# )\n\n# parameters = {\n#     'columntransformer__polynomialfeatures-1__degree': np.arange(1,5,1),\n#     'columntransformer__polynomialfeatures-2__degree': np.arange(1,5,1),\n#     'columntransformer__polynomialfeatures-3__degree': np.arange(1,5,1),\n# }\n\n# kf = KFold(n_splits=5, shuffle=True, random_state=0)\n\n# grid_search = GridSearchCV(m2, parameters, cv=kf, scoring=\"neg_root_mean_squared_error\").fit(X, y)\n\n# fit = m2.fit(X, y)",
      "execution_count": null,
      "outputs": []
    },
    {
      "cell_type": "code",
      "metadata": {
        "cell_id": "00031-e68f85f7-bc0d-40d9-86d6-84c44d768edf",
        "deepnote_cell_type": "code"
      },
      "source": "# alpha_list = uniform(0.1, 10, 100)\n# #metrics = [\"r2\"]#, \"neg_mean_absolute_error\"]\n\n\n# m = make_pipeline(\n#         PolynomialFeatures(),\n#         LinearRegression(fit_intercept=False)\n#     )\n\n# parameters = {\n#     'polynomialfeatures__degree': np.arange(1,6,1)\n# }\n\n# #LinearRegression(fit_intercept=False)\n# pipe = Pipeline([\n#     (\"scaler\",StandardScaler()),\n#     (\"poly\",LinearRegression()),\n#     (\"model\", Ridge())#, max_iter = 1000\n# ])\n\n# params = {\n#     \"model__alpha\": alpha_list,\n#     \"poly__fit_intercept\" : [True,False],\n#     \"poly__degree\": [1,2,3]\n# }\n\n# kf = KFold(5, shuffle=True, random_state=0)\n\n# # step2: initialize the model\n# gcv_ridge = GridSearchCV(pipe, params,cv = kf, scoring= \"neg_mean_absolute_error\")\n# # step 3: train the model\n# gcv_ridge.fit(X_train, y_train)\n",
      "execution_count": 106,
      "outputs": [
        {
          "ename": "TypeError",
          "evalue": "All intermediate steps should be transformers and implement fit and transform or be the string 'passthrough' 'LinearRegression()' (type <class 'sklearn.linear_model._base.LinearRegression'>) doesn't",
          "output_type": "error",
          "traceback": [
            "\u001b[1;31m---------------------------------------------------------------------------\u001b[0m",
            "\u001b[1;31mTypeError\u001b[0m                                 Traceback (most recent call last)",
            "\u001b[1;32m<ipython-input-106-9876a5c6efab>\u001b[0m in \u001b[0;36m<module>\u001b[1;34m\u001b[0m\n\u001b[0;32m      3\u001b[0m \u001b[1;33m\u001b[0m\u001b[0m\n\u001b[0;32m      4\u001b[0m \u001b[1;31m#LinearRegression(fit_intercept=False)\u001b[0m\u001b[1;33m\u001b[0m\u001b[1;33m\u001b[0m\u001b[1;33m\u001b[0m\u001b[0m\n\u001b[1;32m----> 5\u001b[1;33m pipe = Pipeline([\n\u001b[0m\u001b[0;32m      6\u001b[0m     \u001b[1;33m(\u001b[0m\u001b[1;34m\"scaler\"\u001b[0m\u001b[1;33m,\u001b[0m\u001b[0mStandardScaler\u001b[0m\u001b[1;33m(\u001b[0m\u001b[1;33m)\u001b[0m\u001b[1;33m)\u001b[0m\u001b[1;33m,\u001b[0m\u001b[1;33m\u001b[0m\u001b[1;33m\u001b[0m\u001b[0m\n\u001b[0;32m      7\u001b[0m     \u001b[1;33m(\u001b[0m\u001b[1;34m\"poly\"\u001b[0m\u001b[1;33m,\u001b[0m\u001b[0mLinearRegression\u001b[0m\u001b[1;33m(\u001b[0m\u001b[1;33m)\u001b[0m\u001b[1;33m)\u001b[0m\u001b[1;33m,\u001b[0m\u001b[1;33m\u001b[0m\u001b[1;33m\u001b[0m\u001b[0m\n",
            "\u001b[1;32m~\\anaconda3\\lib\\site-packages\\sklearn\\utils\\validation.py\u001b[0m in \u001b[0;36minner_f\u001b[1;34m(*args, **kwargs)\u001b[0m\n\u001b[0;32m     70\u001b[0m                           FutureWarning)\n\u001b[0;32m     71\u001b[0m         \u001b[0mkwargs\u001b[0m\u001b[1;33m.\u001b[0m\u001b[0mupdate\u001b[0m\u001b[1;33m(\u001b[0m\u001b[1;33m{\u001b[0m\u001b[0mk\u001b[0m\u001b[1;33m:\u001b[0m \u001b[0marg\u001b[0m \u001b[1;32mfor\u001b[0m \u001b[0mk\u001b[0m\u001b[1;33m,\u001b[0m \u001b[0marg\u001b[0m \u001b[1;32min\u001b[0m \u001b[0mzip\u001b[0m\u001b[1;33m(\u001b[0m\u001b[0msig\u001b[0m\u001b[1;33m.\u001b[0m\u001b[0mparameters\u001b[0m\u001b[1;33m,\u001b[0m \u001b[0margs\u001b[0m\u001b[1;33m)\u001b[0m\u001b[1;33m}\u001b[0m\u001b[1;33m)\u001b[0m\u001b[1;33m\u001b[0m\u001b[1;33m\u001b[0m\u001b[0m\n\u001b[1;32m---> 72\u001b[1;33m         \u001b[1;32mreturn\u001b[0m \u001b[0mf\u001b[0m\u001b[1;33m(\u001b[0m\u001b[1;33m**\u001b[0m\u001b[0mkwargs\u001b[0m\u001b[1;33m)\u001b[0m\u001b[1;33m\u001b[0m\u001b[1;33m\u001b[0m\u001b[0m\n\u001b[0m\u001b[0;32m     73\u001b[0m     \u001b[1;32mreturn\u001b[0m \u001b[0minner_f\u001b[0m\u001b[1;33m\u001b[0m\u001b[1;33m\u001b[0m\u001b[0m\n\u001b[0;32m     74\u001b[0m \u001b[1;33m\u001b[0m\u001b[0m\n",
            "\u001b[1;32m~\\anaconda3\\lib\\site-packages\\sklearn\\pipeline.py\u001b[0m in \u001b[0;36m__init__\u001b[1;34m(self, steps, memory, verbose)\u001b[0m\n\u001b[0;32m    112\u001b[0m         \u001b[0mself\u001b[0m\u001b[1;33m.\u001b[0m\u001b[0mmemory\u001b[0m \u001b[1;33m=\u001b[0m \u001b[0mmemory\u001b[0m\u001b[1;33m\u001b[0m\u001b[1;33m\u001b[0m\u001b[0m\n\u001b[0;32m    113\u001b[0m         \u001b[0mself\u001b[0m\u001b[1;33m.\u001b[0m\u001b[0mverbose\u001b[0m \u001b[1;33m=\u001b[0m \u001b[0mverbose\u001b[0m\u001b[1;33m\u001b[0m\u001b[1;33m\u001b[0m\u001b[0m\n\u001b[1;32m--> 114\u001b[1;33m         \u001b[0mself\u001b[0m\u001b[1;33m.\u001b[0m\u001b[0m_validate_steps\u001b[0m\u001b[1;33m(\u001b[0m\u001b[1;33m)\u001b[0m\u001b[1;33m\u001b[0m\u001b[1;33m\u001b[0m\u001b[0m\n\u001b[0m\u001b[0;32m    115\u001b[0m \u001b[1;33m\u001b[0m\u001b[0m\n\u001b[0;32m    116\u001b[0m     \u001b[1;32mdef\u001b[0m \u001b[0mget_params\u001b[0m\u001b[1;33m(\u001b[0m\u001b[0mself\u001b[0m\u001b[1;33m,\u001b[0m \u001b[0mdeep\u001b[0m\u001b[1;33m=\u001b[0m\u001b[1;32mTrue\u001b[0m\u001b[1;33m)\u001b[0m\u001b[1;33m:\u001b[0m\u001b[1;33m\u001b[0m\u001b[1;33m\u001b[0m\u001b[0m\n",
            "\u001b[1;32m~\\anaconda3\\lib\\site-packages\\sklearn\\pipeline.py\u001b[0m in \u001b[0;36m_validate_steps\u001b[1;34m(self)\u001b[0m\n\u001b[0;32m    157\u001b[0m             if (not (hasattr(t, \"fit\") or hasattr(t, \"fit_transform\")) or not\n\u001b[0;32m    158\u001b[0m                     hasattr(t, \"transform\")):\n\u001b[1;32m--> 159\u001b[1;33m                 raise TypeError(\"All intermediate steps should be \"\n\u001b[0m\u001b[0;32m    160\u001b[0m                                 \u001b[1;34m\"transformers and implement fit and transform \"\u001b[0m\u001b[1;33m\u001b[0m\u001b[1;33m\u001b[0m\u001b[0m\n\u001b[0;32m    161\u001b[0m                                 \u001b[1;34m\"or be the string 'passthrough' \"\u001b[0m\u001b[1;33m\u001b[0m\u001b[1;33m\u001b[0m\u001b[0m\n",
            "\u001b[1;31mTypeError\u001b[0m: All intermediate steps should be transformers and implement fit and transform or be the string 'passthrough' 'LinearRegression()' (type <class 'sklearn.linear_model._base.LinearRegression'>) doesn't"
          ]
        }
      ]
    },
    {
      "cell_type": "code",
      "metadata": {
        "cell_id": "00032-993da104-5566-4382-808a-1ebd9af758a0",
        "deepnote_cell_type": "code"
      },
      "source": "# alpha_list = uniform(0.1, 10, 100)\n# #metrics = [\"r2\"]#, \"neg_mean_absolute_error\"]\n\n# pipe = Pipeline([\n#     (\"scaler\",StandardScaler()),\n#     (\"poly\", PolynomialFeatures()),#degree=1\n#     (\"model\", Ridge())#, max_iter = 1000\n# ])\n\n# params = {\n#     \"model__alpha\": alpha_list,\n#     \"poly__include_bias\" : [True,False],\n#     \"poly__degree\": [1,2]\n# }\n\n# kf = KFold(5, shuffle=True, random_state=0)\n\n# # step2: initialize the model\n# gcv = GridSearchCV(pipe, params,cv = kf, scoring= \"neg_mean_absolute_error\")\n# # step 3: train the model\n# gcv.fit(X_train, y_train)",
      "execution_count": 124,
      "outputs": [
        {
          "ename": "KeyboardInterrupt",
          "evalue": "",
          "output_type": "error",
          "traceback": [
            "\u001b[1;31m---------------------------------------------------------------------------\u001b[0m",
            "\u001b[1;31mKeyboardInterrupt\u001b[0m                         Traceback (most recent call last)",
            "\u001b[1;32m<ipython-input-124-a6f34a3c1d5d>\u001b[0m in \u001b[0;36m<module>\u001b[1;34m\u001b[0m\n\u001b[0;32m     19\u001b[0m \u001b[0mgcv\u001b[0m \u001b[1;33m=\u001b[0m \u001b[0mGridSearchCV\u001b[0m\u001b[1;33m(\u001b[0m\u001b[0mpipe\u001b[0m\u001b[1;33m,\u001b[0m \u001b[0mparams\u001b[0m\u001b[1;33m,\u001b[0m\u001b[0mcv\u001b[0m \u001b[1;33m=\u001b[0m \u001b[0mkf\u001b[0m\u001b[1;33m,\u001b[0m \u001b[0mscoring\u001b[0m\u001b[1;33m=\u001b[0m \u001b[1;34m\"neg_mean_absolute_error\"\u001b[0m\u001b[1;33m)\u001b[0m\u001b[1;33m\u001b[0m\u001b[1;33m\u001b[0m\u001b[0m\n\u001b[0;32m     20\u001b[0m \u001b[1;31m# step 3: train the model\u001b[0m\u001b[1;33m\u001b[0m\u001b[1;33m\u001b[0m\u001b[1;33m\u001b[0m\u001b[0m\n\u001b[1;32m---> 21\u001b[1;33m \u001b[0mgcv\u001b[0m\u001b[1;33m.\u001b[0m\u001b[0mfit\u001b[0m\u001b[1;33m(\u001b[0m\u001b[0mX_train\u001b[0m\u001b[1;33m,\u001b[0m \u001b[0my_train\u001b[0m\u001b[1;33m)\u001b[0m\u001b[1;33m\u001b[0m\u001b[1;33m\u001b[0m\u001b[0m\n\u001b[0m",
            "\u001b[1;32m~\\anaconda3\\lib\\site-packages\\sklearn\\utils\\validation.py\u001b[0m in \u001b[0;36minner_f\u001b[1;34m(*args, **kwargs)\u001b[0m\n\u001b[0;32m     70\u001b[0m                           FutureWarning)\n\u001b[0;32m     71\u001b[0m         \u001b[0mkwargs\u001b[0m\u001b[1;33m.\u001b[0m\u001b[0mupdate\u001b[0m\u001b[1;33m(\u001b[0m\u001b[1;33m{\u001b[0m\u001b[0mk\u001b[0m\u001b[1;33m:\u001b[0m \u001b[0marg\u001b[0m \u001b[1;32mfor\u001b[0m \u001b[0mk\u001b[0m\u001b[1;33m,\u001b[0m \u001b[0marg\u001b[0m \u001b[1;32min\u001b[0m \u001b[0mzip\u001b[0m\u001b[1;33m(\u001b[0m\u001b[0msig\u001b[0m\u001b[1;33m.\u001b[0m\u001b[0mparameters\u001b[0m\u001b[1;33m,\u001b[0m \u001b[0margs\u001b[0m\u001b[1;33m)\u001b[0m\u001b[1;33m}\u001b[0m\u001b[1;33m)\u001b[0m\u001b[1;33m\u001b[0m\u001b[1;33m\u001b[0m\u001b[0m\n\u001b[1;32m---> 72\u001b[1;33m         \u001b[1;32mreturn\u001b[0m \u001b[0mf\u001b[0m\u001b[1;33m(\u001b[0m\u001b[1;33m**\u001b[0m\u001b[0mkwargs\u001b[0m\u001b[1;33m)\u001b[0m\u001b[1;33m\u001b[0m\u001b[1;33m\u001b[0m\u001b[0m\n\u001b[0m\u001b[0;32m     73\u001b[0m     \u001b[1;32mreturn\u001b[0m \u001b[0minner_f\u001b[0m\u001b[1;33m\u001b[0m\u001b[1;33m\u001b[0m\u001b[0m\n\u001b[0;32m     74\u001b[0m \u001b[1;33m\u001b[0m\u001b[0m\n",
            "\u001b[1;32m~\\anaconda3\\lib\\site-packages\\sklearn\\model_selection\\_search.py\u001b[0m in \u001b[0;36mfit\u001b[1;34m(self, X, y, groups, **fit_params)\u001b[0m\n\u001b[0;32m    734\u001b[0m                 \u001b[1;32mreturn\u001b[0m \u001b[0mresults\u001b[0m\u001b[1;33m\u001b[0m\u001b[1;33m\u001b[0m\u001b[0m\n\u001b[0;32m    735\u001b[0m \u001b[1;33m\u001b[0m\u001b[0m\n\u001b[1;32m--> 736\u001b[1;33m             \u001b[0mself\u001b[0m\u001b[1;33m.\u001b[0m\u001b[0m_run_search\u001b[0m\u001b[1;33m(\u001b[0m\u001b[0mevaluate_candidates\u001b[0m\u001b[1;33m)\u001b[0m\u001b[1;33m\u001b[0m\u001b[1;33m\u001b[0m\u001b[0m\n\u001b[0m\u001b[0;32m    737\u001b[0m \u001b[1;33m\u001b[0m\u001b[0m\n\u001b[0;32m    738\u001b[0m         \u001b[1;31m# For multi-metric evaluation, store the best_index_, best_params_ and\u001b[0m\u001b[1;33m\u001b[0m\u001b[1;33m\u001b[0m\u001b[1;33m\u001b[0m\u001b[0m\n",
            "\u001b[1;32m~\\anaconda3\\lib\\site-packages\\sklearn\\model_selection\\_search.py\u001b[0m in \u001b[0;36m_run_search\u001b[1;34m(self, evaluate_candidates)\u001b[0m\n\u001b[0;32m   1186\u001b[0m     \u001b[1;32mdef\u001b[0m \u001b[0m_run_search\u001b[0m\u001b[1;33m(\u001b[0m\u001b[0mself\u001b[0m\u001b[1;33m,\u001b[0m \u001b[0mevaluate_candidates\u001b[0m\u001b[1;33m)\u001b[0m\u001b[1;33m:\u001b[0m\u001b[1;33m\u001b[0m\u001b[1;33m\u001b[0m\u001b[0m\n\u001b[0;32m   1187\u001b[0m         \u001b[1;34m\"\"\"Search all candidates in param_grid\"\"\"\u001b[0m\u001b[1;33m\u001b[0m\u001b[1;33m\u001b[0m\u001b[0m\n\u001b[1;32m-> 1188\u001b[1;33m         \u001b[0mevaluate_candidates\u001b[0m\u001b[1;33m(\u001b[0m\u001b[0mParameterGrid\u001b[0m\u001b[1;33m(\u001b[0m\u001b[0mself\u001b[0m\u001b[1;33m.\u001b[0m\u001b[0mparam_grid\u001b[0m\u001b[1;33m)\u001b[0m\u001b[1;33m)\u001b[0m\u001b[1;33m\u001b[0m\u001b[1;33m\u001b[0m\u001b[0m\n\u001b[0m\u001b[0;32m   1189\u001b[0m \u001b[1;33m\u001b[0m\u001b[0m\n\u001b[0;32m   1190\u001b[0m \u001b[1;33m\u001b[0m\u001b[0m\n",
            "\u001b[1;32m~\\anaconda3\\lib\\site-packages\\sklearn\\model_selection\\_search.py\u001b[0m in \u001b[0;36mevaluate_candidates\u001b[1;34m(candidate_params)\u001b[0m\n\u001b[0;32m    706\u001b[0m                               n_splits, n_candidates, n_candidates * n_splits))\n\u001b[0;32m    707\u001b[0m \u001b[1;33m\u001b[0m\u001b[0m\n\u001b[1;32m--> 708\u001b[1;33m                 out = parallel(delayed(_fit_and_score)(clone(base_estimator),\n\u001b[0m\u001b[0;32m    709\u001b[0m                                                        \u001b[0mX\u001b[0m\u001b[1;33m,\u001b[0m \u001b[0my\u001b[0m\u001b[1;33m,\u001b[0m\u001b[1;33m\u001b[0m\u001b[1;33m\u001b[0m\u001b[0m\n\u001b[0;32m    710\u001b[0m                                                        \u001b[0mtrain\u001b[0m\u001b[1;33m=\u001b[0m\u001b[0mtrain\u001b[0m\u001b[1;33m,\u001b[0m \u001b[0mtest\u001b[0m\u001b[1;33m=\u001b[0m\u001b[0mtest\u001b[0m\u001b[1;33m,\u001b[0m\u001b[1;33m\u001b[0m\u001b[1;33m\u001b[0m\u001b[0m\n",
            "\u001b[1;32m~\\anaconda3\\lib\\site-packages\\joblib\\parallel.py\u001b[0m in \u001b[0;36m__call__\u001b[1;34m(self, iterable)\u001b[0m\n\u001b[0;32m   1030\u001b[0m                 \u001b[0mself\u001b[0m\u001b[1;33m.\u001b[0m\u001b[0m_iterating\u001b[0m \u001b[1;33m=\u001b[0m \u001b[0mself\u001b[0m\u001b[1;33m.\u001b[0m\u001b[0m_original_iterator\u001b[0m \u001b[1;32mis\u001b[0m \u001b[1;32mnot\u001b[0m \u001b[1;32mNone\u001b[0m\u001b[1;33m\u001b[0m\u001b[1;33m\u001b[0m\u001b[0m\n\u001b[0;32m   1031\u001b[0m \u001b[1;33m\u001b[0m\u001b[0m\n\u001b[1;32m-> 1032\u001b[1;33m             \u001b[1;32mwhile\u001b[0m \u001b[0mself\u001b[0m\u001b[1;33m.\u001b[0m\u001b[0mdispatch_one_batch\u001b[0m\u001b[1;33m(\u001b[0m\u001b[0miterator\u001b[0m\u001b[1;33m)\u001b[0m\u001b[1;33m:\u001b[0m\u001b[1;33m\u001b[0m\u001b[1;33m\u001b[0m\u001b[0m\n\u001b[0m\u001b[0;32m   1033\u001b[0m                 \u001b[1;32mpass\u001b[0m\u001b[1;33m\u001b[0m\u001b[1;33m\u001b[0m\u001b[0m\n\u001b[0;32m   1034\u001b[0m \u001b[1;33m\u001b[0m\u001b[0m\n",
            "\u001b[1;32m~\\anaconda3\\lib\\site-packages\\joblib\\parallel.py\u001b[0m in \u001b[0;36mdispatch_one_batch\u001b[1;34m(self, iterator)\u001b[0m\n\u001b[0;32m    845\u001b[0m                 \u001b[1;32mreturn\u001b[0m \u001b[1;32mFalse\u001b[0m\u001b[1;33m\u001b[0m\u001b[1;33m\u001b[0m\u001b[0m\n\u001b[0;32m    846\u001b[0m             \u001b[1;32melse\u001b[0m\u001b[1;33m:\u001b[0m\u001b[1;33m\u001b[0m\u001b[1;33m\u001b[0m\u001b[0m\n\u001b[1;32m--> 847\u001b[1;33m                 \u001b[0mself\u001b[0m\u001b[1;33m.\u001b[0m\u001b[0m_dispatch\u001b[0m\u001b[1;33m(\u001b[0m\u001b[0mtasks\u001b[0m\u001b[1;33m)\u001b[0m\u001b[1;33m\u001b[0m\u001b[1;33m\u001b[0m\u001b[0m\n\u001b[0m\u001b[0;32m    848\u001b[0m                 \u001b[1;32mreturn\u001b[0m \u001b[1;32mTrue\u001b[0m\u001b[1;33m\u001b[0m\u001b[1;33m\u001b[0m\u001b[0m\n\u001b[0;32m    849\u001b[0m \u001b[1;33m\u001b[0m\u001b[0m\n",
            "\u001b[1;32m~\\anaconda3\\lib\\site-packages\\joblib\\parallel.py\u001b[0m in \u001b[0;36m_dispatch\u001b[1;34m(self, batch)\u001b[0m\n\u001b[0;32m    763\u001b[0m         \u001b[1;32mwith\u001b[0m \u001b[0mself\u001b[0m\u001b[1;33m.\u001b[0m\u001b[0m_lock\u001b[0m\u001b[1;33m:\u001b[0m\u001b[1;33m\u001b[0m\u001b[1;33m\u001b[0m\u001b[0m\n\u001b[0;32m    764\u001b[0m             \u001b[0mjob_idx\u001b[0m \u001b[1;33m=\u001b[0m \u001b[0mlen\u001b[0m\u001b[1;33m(\u001b[0m\u001b[0mself\u001b[0m\u001b[1;33m.\u001b[0m\u001b[0m_jobs\u001b[0m\u001b[1;33m)\u001b[0m\u001b[1;33m\u001b[0m\u001b[1;33m\u001b[0m\u001b[0m\n\u001b[1;32m--> 765\u001b[1;33m             \u001b[0mjob\u001b[0m \u001b[1;33m=\u001b[0m \u001b[0mself\u001b[0m\u001b[1;33m.\u001b[0m\u001b[0m_backend\u001b[0m\u001b[1;33m.\u001b[0m\u001b[0mapply_async\u001b[0m\u001b[1;33m(\u001b[0m\u001b[0mbatch\u001b[0m\u001b[1;33m,\u001b[0m \u001b[0mcallback\u001b[0m\u001b[1;33m=\u001b[0m\u001b[0mcb\u001b[0m\u001b[1;33m)\u001b[0m\u001b[1;33m\u001b[0m\u001b[1;33m\u001b[0m\u001b[0m\n\u001b[0m\u001b[0;32m    766\u001b[0m             \u001b[1;31m# A job can complete so quickly than its callback is\u001b[0m\u001b[1;33m\u001b[0m\u001b[1;33m\u001b[0m\u001b[1;33m\u001b[0m\u001b[0m\n\u001b[0;32m    767\u001b[0m             \u001b[1;31m# called before we get here, causing self._jobs to\u001b[0m\u001b[1;33m\u001b[0m\u001b[1;33m\u001b[0m\u001b[1;33m\u001b[0m\u001b[0m\n",
            "\u001b[1;32m~\\anaconda3\\lib\\site-packages\\joblib\\_parallel_backends.py\u001b[0m in \u001b[0;36mapply_async\u001b[1;34m(self, func, callback)\u001b[0m\n\u001b[0;32m    206\u001b[0m     \u001b[1;32mdef\u001b[0m \u001b[0mapply_async\u001b[0m\u001b[1;33m(\u001b[0m\u001b[0mself\u001b[0m\u001b[1;33m,\u001b[0m \u001b[0mfunc\u001b[0m\u001b[1;33m,\u001b[0m \u001b[0mcallback\u001b[0m\u001b[1;33m=\u001b[0m\u001b[1;32mNone\u001b[0m\u001b[1;33m)\u001b[0m\u001b[1;33m:\u001b[0m\u001b[1;33m\u001b[0m\u001b[1;33m\u001b[0m\u001b[0m\n\u001b[0;32m    207\u001b[0m         \u001b[1;34m\"\"\"Schedule a func to be run\"\"\"\u001b[0m\u001b[1;33m\u001b[0m\u001b[1;33m\u001b[0m\u001b[0m\n\u001b[1;32m--> 208\u001b[1;33m         \u001b[0mresult\u001b[0m \u001b[1;33m=\u001b[0m \u001b[0mImmediateResult\u001b[0m\u001b[1;33m(\u001b[0m\u001b[0mfunc\u001b[0m\u001b[1;33m)\u001b[0m\u001b[1;33m\u001b[0m\u001b[1;33m\u001b[0m\u001b[0m\n\u001b[0m\u001b[0;32m    209\u001b[0m         \u001b[1;32mif\u001b[0m \u001b[0mcallback\u001b[0m\u001b[1;33m:\u001b[0m\u001b[1;33m\u001b[0m\u001b[1;33m\u001b[0m\u001b[0m\n\u001b[0;32m    210\u001b[0m             \u001b[0mcallback\u001b[0m\u001b[1;33m(\u001b[0m\u001b[0mresult\u001b[0m\u001b[1;33m)\u001b[0m\u001b[1;33m\u001b[0m\u001b[1;33m\u001b[0m\u001b[0m\n",
            "\u001b[1;32m~\\anaconda3\\lib\\site-packages\\joblib\\_parallel_backends.py\u001b[0m in \u001b[0;36m__init__\u001b[1;34m(self, batch)\u001b[0m\n\u001b[0;32m    570\u001b[0m         \u001b[1;31m# Don't delay the application, to avoid keeping the input\u001b[0m\u001b[1;33m\u001b[0m\u001b[1;33m\u001b[0m\u001b[1;33m\u001b[0m\u001b[0m\n\u001b[0;32m    571\u001b[0m         \u001b[1;31m# arguments in memory\u001b[0m\u001b[1;33m\u001b[0m\u001b[1;33m\u001b[0m\u001b[1;33m\u001b[0m\u001b[0m\n\u001b[1;32m--> 572\u001b[1;33m         \u001b[0mself\u001b[0m\u001b[1;33m.\u001b[0m\u001b[0mresults\u001b[0m \u001b[1;33m=\u001b[0m \u001b[0mbatch\u001b[0m\u001b[1;33m(\u001b[0m\u001b[1;33m)\u001b[0m\u001b[1;33m\u001b[0m\u001b[1;33m\u001b[0m\u001b[0m\n\u001b[0m\u001b[0;32m    573\u001b[0m \u001b[1;33m\u001b[0m\u001b[0m\n\u001b[0;32m    574\u001b[0m     \u001b[1;32mdef\u001b[0m \u001b[0mget\u001b[0m\u001b[1;33m(\u001b[0m\u001b[0mself\u001b[0m\u001b[1;33m)\u001b[0m\u001b[1;33m:\u001b[0m\u001b[1;33m\u001b[0m\u001b[1;33m\u001b[0m\u001b[0m\n",
            "\u001b[1;32m~\\anaconda3\\lib\\site-packages\\joblib\\parallel.py\u001b[0m in \u001b[0;36m__call__\u001b[1;34m(self)\u001b[0m\n\u001b[0;32m    250\u001b[0m         \u001b[1;31m# change the default number of processes to -1\u001b[0m\u001b[1;33m\u001b[0m\u001b[1;33m\u001b[0m\u001b[1;33m\u001b[0m\u001b[0m\n\u001b[0;32m    251\u001b[0m         \u001b[1;32mwith\u001b[0m \u001b[0mparallel_backend\u001b[0m\u001b[1;33m(\u001b[0m\u001b[0mself\u001b[0m\u001b[1;33m.\u001b[0m\u001b[0m_backend\u001b[0m\u001b[1;33m,\u001b[0m \u001b[0mn_jobs\u001b[0m\u001b[1;33m=\u001b[0m\u001b[0mself\u001b[0m\u001b[1;33m.\u001b[0m\u001b[0m_n_jobs\u001b[0m\u001b[1;33m)\u001b[0m\u001b[1;33m:\u001b[0m\u001b[1;33m\u001b[0m\u001b[1;33m\u001b[0m\u001b[0m\n\u001b[1;32m--> 252\u001b[1;33m             return [func(*args, **kwargs)\n\u001b[0m\u001b[0;32m    253\u001b[0m                     for func, args, kwargs in self.items]\n\u001b[0;32m    254\u001b[0m \u001b[1;33m\u001b[0m\u001b[0m\n",
            "\u001b[1;32m~\\anaconda3\\lib\\site-packages\\joblib\\parallel.py\u001b[0m in \u001b[0;36m<listcomp>\u001b[1;34m(.0)\u001b[0m\n\u001b[0;32m    250\u001b[0m         \u001b[1;31m# change the default number of processes to -1\u001b[0m\u001b[1;33m\u001b[0m\u001b[1;33m\u001b[0m\u001b[1;33m\u001b[0m\u001b[0m\n\u001b[0;32m    251\u001b[0m         \u001b[1;32mwith\u001b[0m \u001b[0mparallel_backend\u001b[0m\u001b[1;33m(\u001b[0m\u001b[0mself\u001b[0m\u001b[1;33m.\u001b[0m\u001b[0m_backend\u001b[0m\u001b[1;33m,\u001b[0m \u001b[0mn_jobs\u001b[0m\u001b[1;33m=\u001b[0m\u001b[0mself\u001b[0m\u001b[1;33m.\u001b[0m\u001b[0m_n_jobs\u001b[0m\u001b[1;33m)\u001b[0m\u001b[1;33m:\u001b[0m\u001b[1;33m\u001b[0m\u001b[1;33m\u001b[0m\u001b[0m\n\u001b[1;32m--> 252\u001b[1;33m             return [func(*args, **kwargs)\n\u001b[0m\u001b[0;32m    253\u001b[0m                     for func, args, kwargs in self.items]\n\u001b[0;32m    254\u001b[0m \u001b[1;33m\u001b[0m\u001b[0m\n",
            "\u001b[1;32m~\\anaconda3\\lib\\site-packages\\sklearn\\model_selection\\_validation.py\u001b[0m in \u001b[0;36m_fit_and_score\u001b[1;34m(estimator, X, y, scorer, train, test, verbose, parameters, fit_params, return_train_score, return_parameters, return_n_test_samples, return_times, return_estimator, error_score)\u001b[0m\n\u001b[0;32m    529\u001b[0m             \u001b[0mestimator\u001b[0m\u001b[1;33m.\u001b[0m\u001b[0mfit\u001b[0m\u001b[1;33m(\u001b[0m\u001b[0mX_train\u001b[0m\u001b[1;33m,\u001b[0m \u001b[1;33m**\u001b[0m\u001b[0mfit_params\u001b[0m\u001b[1;33m)\u001b[0m\u001b[1;33m\u001b[0m\u001b[1;33m\u001b[0m\u001b[0m\n\u001b[0;32m    530\u001b[0m         \u001b[1;32melse\u001b[0m\u001b[1;33m:\u001b[0m\u001b[1;33m\u001b[0m\u001b[1;33m\u001b[0m\u001b[0m\n\u001b[1;32m--> 531\u001b[1;33m             \u001b[0mestimator\u001b[0m\u001b[1;33m.\u001b[0m\u001b[0mfit\u001b[0m\u001b[1;33m(\u001b[0m\u001b[0mX_train\u001b[0m\u001b[1;33m,\u001b[0m \u001b[0my_train\u001b[0m\u001b[1;33m,\u001b[0m \u001b[1;33m**\u001b[0m\u001b[0mfit_params\u001b[0m\u001b[1;33m)\u001b[0m\u001b[1;33m\u001b[0m\u001b[1;33m\u001b[0m\u001b[0m\n\u001b[0m\u001b[0;32m    532\u001b[0m \u001b[1;33m\u001b[0m\u001b[0m\n\u001b[0;32m    533\u001b[0m     \u001b[1;32mexcept\u001b[0m \u001b[0mException\u001b[0m \u001b[1;32mas\u001b[0m \u001b[0me\u001b[0m\u001b[1;33m:\u001b[0m\u001b[1;33m\u001b[0m\u001b[1;33m\u001b[0m\u001b[0m\n",
            "\u001b[1;32m~\\anaconda3\\lib\\site-packages\\sklearn\\pipeline.py\u001b[0m in \u001b[0;36mfit\u001b[1;34m(self, X, y, **fit_params)\u001b[0m\n\u001b[0;32m    333\u001b[0m             \u001b[1;32mif\u001b[0m \u001b[0mself\u001b[0m\u001b[1;33m.\u001b[0m\u001b[0m_final_estimator\u001b[0m \u001b[1;33m!=\u001b[0m \u001b[1;34m'passthrough'\u001b[0m\u001b[1;33m:\u001b[0m\u001b[1;33m\u001b[0m\u001b[1;33m\u001b[0m\u001b[0m\n\u001b[0;32m    334\u001b[0m                 \u001b[0mfit_params_last_step\u001b[0m \u001b[1;33m=\u001b[0m \u001b[0mfit_params_steps\u001b[0m\u001b[1;33m[\u001b[0m\u001b[0mself\u001b[0m\u001b[1;33m.\u001b[0m\u001b[0msteps\u001b[0m\u001b[1;33m[\u001b[0m\u001b[1;33m-\u001b[0m\u001b[1;36m1\u001b[0m\u001b[1;33m]\u001b[0m\u001b[1;33m[\u001b[0m\u001b[1;36m0\u001b[0m\u001b[1;33m]\u001b[0m\u001b[1;33m]\u001b[0m\u001b[1;33m\u001b[0m\u001b[1;33m\u001b[0m\u001b[0m\n\u001b[1;32m--> 335\u001b[1;33m                 \u001b[0mself\u001b[0m\u001b[1;33m.\u001b[0m\u001b[0m_final_estimator\u001b[0m\u001b[1;33m.\u001b[0m\u001b[0mfit\u001b[0m\u001b[1;33m(\u001b[0m\u001b[0mXt\u001b[0m\u001b[1;33m,\u001b[0m \u001b[0my\u001b[0m\u001b[1;33m,\u001b[0m \u001b[1;33m**\u001b[0m\u001b[0mfit_params_last_step\u001b[0m\u001b[1;33m)\u001b[0m\u001b[1;33m\u001b[0m\u001b[1;33m\u001b[0m\u001b[0m\n\u001b[0m\u001b[0;32m    336\u001b[0m \u001b[1;33m\u001b[0m\u001b[0m\n\u001b[0;32m    337\u001b[0m         \u001b[1;32mreturn\u001b[0m \u001b[0mself\u001b[0m\u001b[1;33m\u001b[0m\u001b[1;33m\u001b[0m\u001b[0m\n",
            "\u001b[1;32m~\\anaconda3\\lib\\site-packages\\sklearn\\linear_model\\_ridge.py\u001b[0m in \u001b[0;36mfit\u001b[1;34m(self, X, y, sample_weight)\u001b[0m\n\u001b[0;32m    760\u001b[0m         \u001b[0mself\u001b[0m \u001b[1;33m:\u001b[0m \u001b[0mreturns\u001b[0m \u001b[0man\u001b[0m \u001b[0minstance\u001b[0m \u001b[0mof\u001b[0m \u001b[0mself\u001b[0m\u001b[1;33m.\u001b[0m\u001b[1;33m\u001b[0m\u001b[1;33m\u001b[0m\u001b[0m\n\u001b[0;32m    761\u001b[0m         \"\"\"\n\u001b[1;32m--> 762\u001b[1;33m         \u001b[1;32mreturn\u001b[0m \u001b[0msuper\u001b[0m\u001b[1;33m(\u001b[0m\u001b[1;33m)\u001b[0m\u001b[1;33m.\u001b[0m\u001b[0mfit\u001b[0m\u001b[1;33m(\u001b[0m\u001b[0mX\u001b[0m\u001b[1;33m,\u001b[0m \u001b[0my\u001b[0m\u001b[1;33m,\u001b[0m \u001b[0msample_weight\u001b[0m\u001b[1;33m=\u001b[0m\u001b[0msample_weight\u001b[0m\u001b[1;33m)\u001b[0m\u001b[1;33m\u001b[0m\u001b[1;33m\u001b[0m\u001b[0m\n\u001b[0m\u001b[0;32m    763\u001b[0m \u001b[1;33m\u001b[0m\u001b[0m\n\u001b[0;32m    764\u001b[0m \u001b[1;33m\u001b[0m\u001b[0m\n",
            "\u001b[1;32m~\\anaconda3\\lib\\site-packages\\sklearn\\linear_model\\_ridge.py\u001b[0m in \u001b[0;36mfit\u001b[1;34m(self, X, y, sample_weight)\u001b[0m\n\u001b[0;32m    591\u001b[0m                 \u001b[0mparams\u001b[0m \u001b[1;33m=\u001b[0m \u001b[1;33m{\u001b[0m\u001b[1;33m}\u001b[0m\u001b[1;33m\u001b[0m\u001b[1;33m\u001b[0m\u001b[0m\n\u001b[0;32m    592\u001b[0m \u001b[1;33m\u001b[0m\u001b[0m\n\u001b[1;32m--> 593\u001b[1;33m             self.coef_, self.n_iter_ = _ridge_regression(\n\u001b[0m\u001b[0;32m    594\u001b[0m                 \u001b[0mX\u001b[0m\u001b[1;33m,\u001b[0m \u001b[0my\u001b[0m\u001b[1;33m,\u001b[0m \u001b[0malpha\u001b[0m\u001b[1;33m=\u001b[0m\u001b[0mself\u001b[0m\u001b[1;33m.\u001b[0m\u001b[0malpha\u001b[0m\u001b[1;33m,\u001b[0m \u001b[0msample_weight\u001b[0m\u001b[1;33m=\u001b[0m\u001b[0msample_weight\u001b[0m\u001b[1;33m,\u001b[0m\u001b[1;33m\u001b[0m\u001b[1;33m\u001b[0m\u001b[0m\n\u001b[0;32m    595\u001b[0m                 \u001b[0mmax_iter\u001b[0m\u001b[1;33m=\u001b[0m\u001b[0mself\u001b[0m\u001b[1;33m.\u001b[0m\u001b[0mmax_iter\u001b[0m\u001b[1;33m,\u001b[0m \u001b[0mtol\u001b[0m\u001b[1;33m=\u001b[0m\u001b[0mself\u001b[0m\u001b[1;33m.\u001b[0m\u001b[0mtol\u001b[0m\u001b[1;33m,\u001b[0m \u001b[0msolver\u001b[0m\u001b[1;33m=\u001b[0m\u001b[0msolver\u001b[0m\u001b[1;33m,\u001b[0m\u001b[1;33m\u001b[0m\u001b[1;33m\u001b[0m\u001b[0m\n",
            "\u001b[1;32m~\\anaconda3\\lib\\site-packages\\sklearn\\linear_model\\_ridge.py\u001b[0m in \u001b[0;36m_ridge_regression\u001b[1;34m(X, y, alpha, sample_weight, solver, max_iter, tol, verbose, random_state, return_n_iter, return_intercept, X_scale, X_offset, check_input)\u001b[0m\n\u001b[0;32m    459\u001b[0m     \u001b[1;32melif\u001b[0m \u001b[0msolver\u001b[0m \u001b[1;33m==\u001b[0m \u001b[1;34m'cholesky'\u001b[0m\u001b[1;33m:\u001b[0m\u001b[1;33m\u001b[0m\u001b[1;33m\u001b[0m\u001b[0m\n\u001b[0;32m    460\u001b[0m         \u001b[1;32mif\u001b[0m \u001b[0mn_features\u001b[0m \u001b[1;33m>\u001b[0m \u001b[0mn_samples\u001b[0m\u001b[1;33m:\u001b[0m\u001b[1;33m\u001b[0m\u001b[1;33m\u001b[0m\u001b[0m\n\u001b[1;32m--> 461\u001b[1;33m             \u001b[0mK\u001b[0m \u001b[1;33m=\u001b[0m \u001b[0msafe_sparse_dot\u001b[0m\u001b[1;33m(\u001b[0m\u001b[0mX\u001b[0m\u001b[1;33m,\u001b[0m \u001b[0mX\u001b[0m\u001b[1;33m.\u001b[0m\u001b[0mT\u001b[0m\u001b[1;33m,\u001b[0m \u001b[0mdense_output\u001b[0m\u001b[1;33m=\u001b[0m\u001b[1;32mTrue\u001b[0m\u001b[1;33m)\u001b[0m\u001b[1;33m\u001b[0m\u001b[1;33m\u001b[0m\u001b[0m\n\u001b[0m\u001b[0;32m    462\u001b[0m             \u001b[1;32mtry\u001b[0m\u001b[1;33m:\u001b[0m\u001b[1;33m\u001b[0m\u001b[1;33m\u001b[0m\u001b[0m\n\u001b[0;32m    463\u001b[0m                 \u001b[0mdual_coef\u001b[0m \u001b[1;33m=\u001b[0m \u001b[0m_solve_cholesky_kernel\u001b[0m\u001b[1;33m(\u001b[0m\u001b[0mK\u001b[0m\u001b[1;33m,\u001b[0m \u001b[0my\u001b[0m\u001b[1;33m,\u001b[0m \u001b[0malpha\u001b[0m\u001b[1;33m)\u001b[0m\u001b[1;33m\u001b[0m\u001b[1;33m\u001b[0m\u001b[0m\n",
            "\u001b[1;32m~\\anaconda3\\lib\\site-packages\\sklearn\\utils\\validation.py\u001b[0m in \u001b[0;36minner_f\u001b[1;34m(*args, **kwargs)\u001b[0m\n\u001b[0;32m     70\u001b[0m                           FutureWarning)\n\u001b[0;32m     71\u001b[0m         \u001b[0mkwargs\u001b[0m\u001b[1;33m.\u001b[0m\u001b[0mupdate\u001b[0m\u001b[1;33m(\u001b[0m\u001b[1;33m{\u001b[0m\u001b[0mk\u001b[0m\u001b[1;33m:\u001b[0m \u001b[0marg\u001b[0m \u001b[1;32mfor\u001b[0m \u001b[0mk\u001b[0m\u001b[1;33m,\u001b[0m \u001b[0marg\u001b[0m \u001b[1;32min\u001b[0m \u001b[0mzip\u001b[0m\u001b[1;33m(\u001b[0m\u001b[0msig\u001b[0m\u001b[1;33m.\u001b[0m\u001b[0mparameters\u001b[0m\u001b[1;33m,\u001b[0m \u001b[0margs\u001b[0m\u001b[1;33m)\u001b[0m\u001b[1;33m}\u001b[0m\u001b[1;33m)\u001b[0m\u001b[1;33m\u001b[0m\u001b[1;33m\u001b[0m\u001b[0m\n\u001b[1;32m---> 72\u001b[1;33m         \u001b[1;32mreturn\u001b[0m \u001b[0mf\u001b[0m\u001b[1;33m(\u001b[0m\u001b[1;33m**\u001b[0m\u001b[0mkwargs\u001b[0m\u001b[1;33m)\u001b[0m\u001b[1;33m\u001b[0m\u001b[1;33m\u001b[0m\u001b[0m\n\u001b[0m\u001b[0;32m     73\u001b[0m     \u001b[1;32mreturn\u001b[0m \u001b[0minner_f\u001b[0m\u001b[1;33m\u001b[0m\u001b[1;33m\u001b[0m\u001b[0m\n\u001b[0;32m     74\u001b[0m \u001b[1;33m\u001b[0m\u001b[0m\n",
            "\u001b[1;32m~\\anaconda3\\lib\\site-packages\\sklearn\\utils\\extmath.py\u001b[0m in \u001b[0;36msafe_sparse_dot\u001b[1;34m(a, b, dense_output)\u001b[0m\n\u001b[0;32m    151\u001b[0m             \u001b[0mret\u001b[0m \u001b[1;33m=\u001b[0m \u001b[0mnp\u001b[0m\u001b[1;33m.\u001b[0m\u001b[0mdot\u001b[0m\u001b[1;33m(\u001b[0m\u001b[0ma\u001b[0m\u001b[1;33m,\u001b[0m \u001b[0mb\u001b[0m\u001b[1;33m)\u001b[0m\u001b[1;33m\u001b[0m\u001b[1;33m\u001b[0m\u001b[0m\n\u001b[0;32m    152\u001b[0m     \u001b[1;32melse\u001b[0m\u001b[1;33m:\u001b[0m\u001b[1;33m\u001b[0m\u001b[1;33m\u001b[0m\u001b[0m\n\u001b[1;32m--> 153\u001b[1;33m         \u001b[0mret\u001b[0m \u001b[1;33m=\u001b[0m \u001b[0ma\u001b[0m \u001b[1;33m@\u001b[0m \u001b[0mb\u001b[0m\u001b[1;33m\u001b[0m\u001b[1;33m\u001b[0m\u001b[0m\n\u001b[0m\u001b[0;32m    154\u001b[0m \u001b[1;33m\u001b[0m\u001b[0m\n\u001b[0;32m    155\u001b[0m     if (sparse.issparse(a) and sparse.issparse(b)\n",
            "\u001b[1;31mKeyboardInterrupt\u001b[0m: "
          ]
        }
      ]
    },
    {
      "cell_type": "code",
      "metadata": {
        "cell_id": "00033-8fbe1a4f-a398-4ce8-a931-b2b10a3cd37c",
        "deepnote_cell_type": "code"
      },
      "source": "# print(\"best parameters:\",gcv.best_params_)\n# print(\"best rmse:\",gcv.best_score_)\n# gcv.best_estimator_.named_steps[\"model\"].coef_",
      "execution_count": null,
      "outputs": []
    },
    {
      "cell_type": "code",
      "metadata": {
        "cell_id": "00034-bbb4e604-f9cd-4048-8a20-c4f16532f81e",
        "deepnote_cell_type": "code"
      },
      "source": "# pred = gcv.best_estimator_.predict(X_test)\n# sns.scatterplot(\n#     x=y_test,\n#     y=gcv.best_estimator_.predict(X_test)\n# )",
      "execution_count": null,
      "outputs": []
    },
    {
      "cell_type": "markdown",
      "source": "## 1. Introduction\n\n*This section should include a brief introduction to the task and the data (assume this is a report you are delivering to a client). If you use any additional data sources, you should introduce them here and discuss why they were included.*\n\n*Briefly outline the approaches being used and the conclusions that you are able to draw.*",
      "metadata": {
        "cell_id": "00035-5673fac3-ecf8-41be-ab53-911935a3e3a1",
        "deepnote_cell_type": "markdown"
      }
    },
    {
      "cell_type": "markdown",
      "source": "## 2. Exploratory Data Analysis and Feature Engineering",
      "metadata": {
        "cell_id": "00036-6d35ec86-4d7e-4a86-8fb0-b0eabdd608b3",
        "deepnote_cell_type": "markdown"
      }
    },
    {
      "cell_type": "markdown",
      "source": "*Include a detailed discussion of the data with a particular emphasis on the features of the data that are relevant for the subsequent modeling. Including visualizations of the data is strongly encouraged - all code and plots must also be described in the write up. Think carefully about whether each plot needs to be included in your final draft - your report should include figures but they should be as focused and impactful as possible.*\n\n*Additionally, this section should also implement and describe any preprocessing / feature engineering of the data. Specifically, this should be any code that you use to generate new columns in the data frame `d`. All of this processing is explicitly meant to occur before we split the data in to training and testing subsets. Processing that will be performed as part of an sklearn pipeline can be mentioned here but should be implemented in the following section.*\n\n*All code and figures should be accompanied by text that provides an overview / context to what is being done or presented.*",
      "metadata": {
        "cell_id": "00037-9c12e25f-69f4-4cda-8cd5-28411ffe072c",
        "deepnote_cell_type": "markdown"
      }
    },
    {
      "cell_type": "markdown",
      "source": "## 3. Model Fitting and Tuning",
      "metadata": {
        "cell_id": "00038-7f7d8d30-7f7b-4cd4-9276-750d7d03e4e9",
        "deepnote_cell_type": "markdown"
      }
    },
    {
      "cell_type": "markdown",
      "source": "*In this section you should detail your choice of model and describe the process used to refine and fit that model. You are strongly encouraged to explore many different modeling methods (e.g. linear regression, regression trees, lasso, etc.) but you should not include a detailed narrative of all of these attempts. At most this section should mention the methods explored and why they were rejected - most of your effort should go into describing the model you are using and your process for tuning and validatin it.*\n\n*For example if you considered a linear regression model, a classification tree, and a lasso model and ultimately settled on the linear regression approach then you should mention that other two approaches were tried but do not include any of the code or any in depth discussion of these models beyond why they were rejected. This section should then detail is the development of the linear regression model in terms of features used, interactions considered, and any additional tuning and validation which ultimately led to your final model.* \n\n*This section should also include the full implementation of your final model, including all necessary validation. As with figures, any included code must also be addressed in the text of the document.*",
      "metadata": {
        "cell_id": "00039-4ebd8ad1-5e4b-497a-bf40-63c9f67ac718",
        "deepnote_cell_type": "markdown"
      }
    },
    {
      "cell_type": "markdown",
      "source": "## 4. Discussion & Conclusions\n",
      "metadata": {
        "cell_id": "00040-6329ddd8-8b59-4f45-88c8-20d42c2fd1ee",
        "deepnote_cell_type": "markdown"
      }
    },
    {
      "cell_type": "markdown",
      "source": "*In this section you should provide a general overview of your final model, its performance, and reliability. You should discuss what the implications of your model are in terms of the included features, predictive performance, and anything else you think is relevant.*\n\n*This should be written with a target audience of a NBC Universal executive who is with the show and  university level mathematics but not necessarily someone who has taken a postgraduate statistical modeling course. Your goal should be to convince this audience that your model is both accurate and useful.*\n\n*Finally, you should include concrete recommendations on what NBC Universal should do to make their reunion episode a popular as possible.*\n\n*Keep in mind that a negative result, i.e. a model that does not work well predictively, that is well explained and justified in terms of why it failed will likely receive higher marks than a model with strong predictive performance but with poor or incorrect explinations / justifications.*",
      "metadata": {
        "cell_id": "00041-ddfcce2d-af60-4696-99ac-7a14df2f5dcf",
        "deepnote_cell_type": "markdown"
      }
    },
    {
      "cell_type": "markdown",
      "source": "## 5. Convert Document",
      "metadata": {
        "cell_id": "00042-f261b066-68e9-475e-a353-823d53cf8267",
        "deepnote_cell_type": "markdown"
      }
    },
    {
      "cell_type": "code",
      "metadata": {
        "cell_id": "00043-6a55fe75-3b10-4793-9077-17f54ff5fff9",
        "deepnote_cell_type": "code"
      },
      "source": "# # Run the following to render to PDF\n# !jupyter nbconvert --to markdown project1.ipynb",
      "execution_count": null,
      "outputs": []
    },
    {
      "cell_type": "markdown",
      "source": "<a style='text-decoration:none;line-height:16px;display:flex;color:#5B5B62;padding:10px;justify-content:end;' href='https://deepnote.com?utm_source=created-in-deepnote-cell&projectId=8d54bbee-a4bc-40dc-a5f1-a0190c0e14b4' target=\"_blank\">\n<img style='display:inline;max-height:16px;margin:0px;margin-right:7.5px;' src='data:image/svg+xml;base64,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' > </img>\nCreated in <span style='font-weight:600;margin-left:4px;'>Deepnote</span></a>",
      "metadata": {
        "tags": [],
        "created_in_deepnote_cell": true,
        "deepnote_cell_type": "markdown"
      }
    }
  ],
  "nbformat": 4,
  "nbformat_minor": 4,
  "metadata": {
    "kernelspec": {
      "display_name": "Python 3",
      "language": "python",
      "name": "python3"
    },
    "language_info": {
      "codemirror_mode": {
        "name": "ipython",
        "version": 3
      },
      "file_extension": ".py",
      "mimetype": "text/x-python",
      "name": "python",
      "nbconvert_exporter": "python",
      "pygments_lexer": "ipython3",
      "version": "3.8.3"
    },
    "deepnote_notebook_id": "a37002ea-e06c-4e53-ad7a-e89436cc2784",
    "deepnote": {},
    "deepnote_execution_queue": []
  }
}